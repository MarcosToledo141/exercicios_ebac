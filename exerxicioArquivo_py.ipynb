{
  "nbformat": 4,
  "nbformat_minor": 0,
  "metadata": {
    "colab": {
      "provenance": [],
      "authorship_tag": "ABX9TyPmCxD3BuISeEcX46kXK3Fa",
      "include_colab_link": true
    },
    "kernelspec": {
      "name": "python3",
      "display_name": "Python 3"
    },
    "language_info": {
      "name": "python"
    }
  },
  "cells": [
    {
      "cell_type": "markdown",
      "metadata": {
        "id": "view-in-github",
        "colab_type": "text"
      },
      "source": [
        "<a href=\"https://colab.research.google.com/github/MarcosToledo141/exercicios_ebac/blob/main/exerxicioArquivo_py.ipynb\" target=\"_parent\"><img src=\"https://colab.research.google.com/assets/colab-badge.svg\" alt=\"Open In Colab\"/></a>"
      ]
    },
    {
      "cell_type": "code",
      "execution_count": 1,
      "metadata": {
        "colab": {
          "base_uri": "https://localhost:8080/"
        },
        "id": "VM69qvgQdxwH",
        "outputId": "9826bdef-fc7c-4e0b-c156-8003b450ed4b"
      },
      "outputs": [
        {
          "output_type": "stream",
          "name": "stdout",
          "text": [
            "Criando arquivo\n"
          ]
        }
      ],
      "source": [
        "#Esse código cria um arquivo de log, e todas as informações inseridas no gera log aparecerão no arquivo de log\n",
        "import time\n",
        "import os.path\n",
        "\n",
        "def geraLog(texto,nome_arquivo):\n",
        "    if os.path.isfile('log.txt') is False:\n",
        "        print('Criando arquivo')\n",
        "\n",
        "    arquivo = open(nome_arquivo, 'a')\n",
        "    now = time.localtime()\n",
        "    now_formatado = time.strftime('%d/%m/%y as %H:%M:%S', now)\n",
        "\n",
        "    arquivo.write(f'{now_formatado} -> {texto}\\n')\n",
        "    arquivo.close()\n",
        "\n",
        "geraLog('Sistema de pagamentos acessado','log.txt')"
      ]
    },
    {
      "cell_type": "code",
      "source": [],
      "metadata": {
        "id": "KSwEguptkUY6"
      },
      "execution_count": null,
      "outputs": []
    }
  ]
}