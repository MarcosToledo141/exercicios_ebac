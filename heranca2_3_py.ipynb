{
  "nbformat": 4,
  "nbformat_minor": 0,
  "metadata": {
    "colab": {
      "provenance": [],
      "authorship_tag": "ABX9TyNc6QzQKvHdm9ZQV0YCTy4s",
      "include_colab_link": true
    },
    "kernelspec": {
      "name": "python3",
      "display_name": "Python 3"
    },
    "language_info": {
      "name": "python"
    }
  },
  "cells": [
    {
      "cell_type": "markdown",
      "metadata": {
        "id": "view-in-github",
        "colab_type": "text"
      },
      "source": [
        "<a href=\"https://colab.research.google.com/github/MarcosToledo141/exercicios_ebac/blob/main/heranca2_3_py.ipynb\" target=\"_parent\"><img src=\"https://colab.research.google.com/assets/colab-badge.svg\" alt=\"Open In Colab\"/></a>"
      ]
    },
    {
      "cell_type": "code",
      "execution_count": 11,
      "metadata": {
        "colab": {
          "base_uri": "https://localhost:8080/"
        },
        "id": "USrkHCxBTg9I",
        "outputId": "2c262bcd-833f-4005-ab09-a9eb0a3f503c"
      },
      "outputs": [
        {
          "output_type": "stream",
          "name": "stdout",
          "text": [
            "Secretário\n"
          ]
        }
      ],
      "source": [
        "#HERANÇA = um novo obejto (objeto filho) irá herdar as características do objeto pai\n",
        "\n",
        "class Empregado:\n",
        "  def __init__(self, identificacao, nome):\n",
        "    self.identificacao = identificacao\n",
        "    self.nome = nome\n",
        "\n",
        "  def registrarponto():\n",
        "    print('Registrando o ponto')\n",
        "\n",
        "  def __str__(self):\n",
        "    return(f'{self.identificacao} do empregado {self.nome}')\n",
        "\n",
        "class CorpoDocente(Empregado):\n",
        "  def __init__(self, identificacao, nome, disciplina):\n",
        "    super().__init__(identificacao, nome)\n",
        "    self.disciplina = disciplina\n",
        "\n",
        "  def atribuirNotas(self,nota):\n",
        "    print(f'Nota atribuida = {nota}')\n",
        "\n",
        "class Administrativo(Empregado):\n",
        "  def __init__(self, identificacao, nome, cargo):\n",
        "    super().__init__(identificacao, nome)\n",
        "    self.cargo = cargo\n",
        "\n",
        "professor1 = CorpoDocente('1122','João','Programação')\n",
        "empregado1 = Empregado('1123','Mário')\n",
        "secretario1 = Administrativo('1120','Pedro','Secretário')\n",
        "\n",
        "print(secretario1.cargo)"
      ]
    },
    {
      "cell_type": "code",
      "source": [],
      "metadata": {
        "id": "MRcXlHfyVUZG"
      },
      "execution_count": null,
      "outputs": []
    }
  ]
}