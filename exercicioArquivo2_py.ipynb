{
  "nbformat": 4,
  "nbformat_minor": 0,
  "metadata": {
    "colab": {
      "provenance": [],
      "authorship_tag": "ABX9TyOXSH0jgmlbZFzWPX1cE/AF",
      "include_colab_link": true
    },
    "kernelspec": {
      "name": "python3",
      "display_name": "Python 3"
    },
    "language_info": {
      "name": "python"
    }
  },
  "cells": [
    {
      "cell_type": "markdown",
      "metadata": {
        "id": "view-in-github",
        "colab_type": "text"
      },
      "source": [
        "<a href=\"https://colab.research.google.com/github/MarcosToledo141/exercicios_ebac/blob/main/exercicioArquivo2_py.ipynb\" target=\"_parent\"><img src=\"https://colab.research.google.com/assets/colab-badge.svg\" alt=\"Open In Colab\"/></a>"
      ]
    },
    {
      "cell_type": "code",
      "execution_count": null,
      "metadata": {
        "id": "I2ID9YNBl3z0"
      },
      "outputs": [],
      "source": [
        "#Esse código cria um arquivo de log, e todas as informações inseridas no gera log aparecerão no arquivo de log\n",
        "import time\n",
        "import os.path\n",
        "\n",
        "def geraLog(texto,nome_arquivo):\n",
        "    if os.path.isfile('log.txt') is False:\n",
        "        print('Criando arquivo')\n",
        "\n",
        "    arquivo = open(nome_arquivo, 'a')\n",
        "    now = time.localtime()\n",
        "    #now_formatado = time.strftime('%d/%m/%y as %H:%M:%S', now)\n",
        "    #A linha de código acima pode ser substituída pela linha de código abaixo, um código mais simples\n",
        "    now_formatado = time.strftime('%x as %X')\n",
        "\n",
        "    arquivo.write(f'{now_formatado} -> {texto}\\n')\n",
        "    arquivo.close()\n",
        "\n",
        "geraLog('Programa reiniciado','log.txt')"
      ]
    }
  ]
}