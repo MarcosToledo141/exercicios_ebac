{
  "nbformat": 4,
  "nbformat_minor": 0,
  "metadata": {
    "colab": {
      "provenance": [],
      "authorship_tag": "ABX9TyMNT+SNaSg4d3HDpFMqS5ll",
      "include_colab_link": true
    },
    "kernelspec": {
      "name": "python3",
      "display_name": "Python 3"
    },
    "language_info": {
      "name": "python"
    }
  },
  "cells": [
    {
      "cell_type": "markdown",
      "metadata": {
        "id": "view-in-github",
        "colab_type": "text"
      },
      "source": [
        "<a href=\"https://colab.research.google.com/github/MarcosToledo141/exercicios_ebac/blob/main/lambda.ipynb\" target=\"_parent\"><img src=\"https://colab.research.google.com/assets/colab-badge.svg\" alt=\"Open In Colab\"/></a>"
      ]
    },
    {
      "cell_type": "markdown",
      "source": [
        "#uma função lambda é uma pequena função anônima\n",
        "#recebe os argumentos porém só pode executar uma expressão\n",
        "# lambda argumentos : expressão"
      ],
      "metadata": {
        "id": "-PpP80gzjCeV"
      }
    },
    {
      "cell_type": "code",
      "source": [
        "x = lambda a:a*3\n",
        "print(x(4))"
      ],
      "metadata": {
        "colab": {
          "base_uri": "https://localhost:8080/"
        },
        "id": "VlBklAqXjEBb",
        "outputId": "75afcf4f-ddd2-46a4-8706-371027386c2e"
      },
      "execution_count": 1,
      "outputs": [
        {
          "output_type": "stream",
          "name": "stdout",
          "text": [
            "12\n"
          ]
        }
      ]
    },
    {
      "cell_type": "code",
      "source": [
        "soma = lambda a,b:a+b\n",
        "print(soma(5,7))"
      ],
      "metadata": {
        "colab": {
          "base_uri": "https://localhost:8080/"
        },
        "id": "6RTTGmVNjTPQ",
        "outputId": "074ed157-e1ee-458e-c246-4de71a7fe9ef"
      },
      "execution_count": 2,
      "outputs": [
        {
          "output_type": "stream",
          "name": "stdout",
          "text": [
            "12\n"
          ]
        }
      ]
    },
    {
      "cell_type": "code",
      "source": [
        "graus_celsius = lambda f:(5/9)*(f-32)\n",
        "print(f'A temperatura em graus Celsius é {graus_celsius(32)}')"
      ],
      "metadata": {
        "colab": {
          "base_uri": "https://localhost:8080/"
        },
        "id": "Y6V8vtr7jc0v",
        "outputId": "b3c48ab8-055e-41f7-bdc0-7184785e2f72"
      },
      "execution_count": 5,
      "outputs": [
        {
          "output_type": "stream",
          "name": "stdout",
          "text": [
            "A temperatura em graus Celsius é 0.0\n"
          ]
        }
      ]
    },
    {
      "cell_type": "code",
      "source": [],
      "metadata": {
        "id": "AivD4ltFjxlf"
      },
      "execution_count": null,
      "outputs": []
    }
  ]
}