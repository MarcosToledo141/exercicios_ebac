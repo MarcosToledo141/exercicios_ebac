{
  "nbformat": 4,
  "nbformat_minor": 0,
  "metadata": {
    "colab": {
      "provenance": [],
      "authorship_tag": "ABX9TyNdFQTdpQMLtJn8TA4vdoy7",
      "include_colab_link": true
    },
    "kernelspec": {
      "name": "python3",
      "display_name": "Python 3"
    },
    "language_info": {
      "name": "python"
    }
  },
  "cells": [
    {
      "cell_type": "markdown",
      "metadata": {
        "id": "view-in-github",
        "colab_type": "text"
      },
      "source": [
        "<a href=\"https://colab.research.google.com/github/MarcosToledo141/exercicios_ebac/blob/main/set.ipynb\" target=\"_parent\"><img src=\"https://colab.research.google.com/assets/colab-badge.svg\" alt=\"Open In Colab\"/></a>"
      ]
    },
    {
      "cell_type": "code",
      "execution_count": null,
      "metadata": {
        "id": "xs1vBMFoZoUY"
      },
      "outputs": [],
      "source": []
    },
    {
      "cell_type": "markdown",
      "source": [
        "SET = coleção não ordenada de elementos, criado entre chaves, remove elementos que estão duplicados"
      ],
      "metadata": {
        "id": "wCd-9gZ3ZvpB"
      }
    },
    {
      "cell_type": "code",
      "source": [
        "cesta = {'maça','banana','maça','uva','melancia','uva'}\n",
        "print(cesta)"
      ],
      "metadata": {
        "colab": {
          "base_uri": "https://localhost:8080/"
        },
        "id": "2lkRwgzWaI6J",
        "outputId": "66b29827-7539-4a4d-c6dc-46a10db5f56c"
      },
      "execution_count": 1,
      "outputs": [
        {
          "output_type": "stream",
          "name": "stdout",
          "text": [
            "{'uva', 'maça', 'melancia', 'banana'}\n"
          ]
        }
      ]
    },
    {
      "cell_type": "code",
      "source": [
        "#Aqui um exemplo pedindo o cesta '0', o objeto não suporta o valore de indexação\n",
        "cesta = {'maça','banana','maça','uva','melancia','uva'}\n",
        "print(cesta)\n",
        "\n",
        "cesta[0]"
      ],
      "metadata": {
        "colab": {
          "base_uri": "https://localhost:8080/",
          "height": 193
        },
        "id": "5vTmJCXzZ1Ec",
        "outputId": "bdb0ca42-638f-43a1-f641-12a5c436fa64"
      },
      "execution_count": 2,
      "outputs": [
        {
          "output_type": "stream",
          "name": "stdout",
          "text": [
            "{'banana', 'uva', 'melancia', 'maça'}\n"
          ]
        },
        {
          "output_type": "error",
          "ename": "TypeError",
          "evalue": "'set' object is not subscriptable",
          "traceback": [
            "\u001b[0;31m---------------------------------------------------------------------------\u001b[0m",
            "\u001b[0;31mTypeError\u001b[0m                                 Traceback (most recent call last)",
            "\u001b[0;32m<ipython-input-2-56e1c422f57a>\u001b[0m in \u001b[0;36m<cell line: 4>\u001b[0;34m()\u001b[0m\n\u001b[1;32m      2\u001b[0m \u001b[0mprint\u001b[0m\u001b[0;34m(\u001b[0m\u001b[0mcesta\u001b[0m\u001b[0;34m)\u001b[0m\u001b[0;34m\u001b[0m\u001b[0;34m\u001b[0m\u001b[0m\n\u001b[1;32m      3\u001b[0m \u001b[0;34m\u001b[0m\u001b[0m\n\u001b[0;32m----> 4\u001b[0;31m \u001b[0mcesta\u001b[0m\u001b[0;34m[\u001b[0m\u001b[0;36m0\u001b[0m\u001b[0;34m]\u001b[0m\u001b[0;34m\u001b[0m\u001b[0;34m\u001b[0m\u001b[0m\n\u001b[0m",
            "\u001b[0;31mTypeError\u001b[0m: 'set' object is not subscriptable"
          ]
        }
      ]
    },
    {
      "cell_type": "code",
      "source": [
        "#Aqui estamos perguntando se a maçã está na lista, retorno 'true'\n",
        "cesta = {'maça','banana','maça','uva','melancia','uva'}\n",
        "print(cesta)\n",
        "\n",
        "'maça' in cesta"
      ],
      "metadata": {
        "colab": {
          "base_uri": "https://localhost:8080/"
        },
        "id": "QM5SpUK6ahM4",
        "outputId": "6d837b9d-ac94-439b-c3e6-d7f5284471df"
      },
      "execution_count": 3,
      "outputs": [
        {
          "output_type": "stream",
          "name": "stdout",
          "text": [
            "{'banana', 'uva', 'melancia', 'maça'}\n"
          ]
        },
        {
          "output_type": "execute_result",
          "data": {
            "text/plain": [
              "True"
            ]
          },
          "metadata": {},
          "execution_count": 3
        }
      ]
    },
    {
      "cell_type": "code",
      "source": [
        "#Aqui o memso exemplo de cima mas com o código mais elaborado\n",
        "cesta = {'maça','banana','maça','uva','melancia','uva'}\n",
        "print(cesta)\n",
        "\n",
        "print('maça' in cesta)"
      ],
      "metadata": {
        "colab": {
          "base_uri": "https://localhost:8080/"
        },
        "id": "W6SQxdBXbDdO",
        "outputId": "f573d448-fb94-4d5a-9c53-11cf697544a8"
      },
      "execution_count": 4,
      "outputs": [
        {
          "output_type": "stream",
          "name": "stdout",
          "text": [
            "{'banana', 'uva', 'melancia', 'maça'}\n",
            "True\n"
          ]
        }
      ]
    },
    {
      "cell_type": "code",
      "source": [
        "#Aqui a palavra basquete foi quebrada, mas não ordenada\n",
        "palavra = set('basquete')\n",
        "\n",
        "print(palavra)"
      ],
      "metadata": {
        "colab": {
          "base_uri": "https://localhost:8080/"
        },
        "id": "6PWYsdJzbJAj",
        "outputId": "0a34f0a3-7bb1-44ab-c0a7-1df78064302f"
      },
      "execution_count": 6,
      "outputs": [
        {
          "output_type": "stream",
          "name": "stdout",
          "text": [
            "{'t', 'b', 'u', 'q', 'e', 's', 'a'}\n"
          ]
        }
      ]
    },
    {
      "cell_type": "code",
      "source": [
        "#Aqui, para a fruta banana,  o código lista as palavras que não estão no código, por exemplo,\n",
        "#as palavras 'ab' estão, então o retorno foi 'n', e apenas uma letra 'n' porque remove os objetos repetidos\n",
        "cesta = {'maça','banana','maça','uva','melancia','uva'}\n",
        "a = {x for x in 'banana' if x not in 'ab'}\n",
        "print(a)"
      ],
      "metadata": {
        "colab": {
          "base_uri": "https://localhost:8080/"
        },
        "id": "_1Gvsxlkbl__",
        "outputId": "1be84885-b961-4b34-c2f0-069441ea681d"
      },
      "execution_count": 11,
      "outputs": [
        {
          "output_type": "stream",
          "name": "stdout",
          "text": [
            "{'n'}\n"
          ]
        }
      ]
    },
    {
      "cell_type": "code",
      "source": [],
      "metadata": {
        "id": "S1P6WBPWcS0m"
      },
      "execution_count": null,
      "outputs": []
    }
  ]
}