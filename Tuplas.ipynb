{
  "nbformat": 4,
  "nbformat_minor": 0,
  "metadata": {
    "colab": {
      "provenance": [],
      "authorship_tag": "ABX9TyPkBh1g5cDBMlku0Rfmbj8u",
      "include_colab_link": true
    },
    "kernelspec": {
      "name": "python3",
      "display_name": "Python 3"
    },
    "language_info": {
      "name": "python"
    }
  },
  "cells": [
    {
      "cell_type": "markdown",
      "metadata": {
        "id": "view-in-github",
        "colab_type": "text"
      },
      "source": [
        "<a href=\"https://colab.research.google.com/github/MarcosToledo141/exercicios_ebac/blob/main/Tuplas.ipynb\" target=\"_parent\"><img src=\"https://colab.research.google.com/assets/colab-badge.svg\" alt=\"Open In Colab\"/></a>"
      ]
    },
    {
      "cell_type": "code",
      "execution_count": 2,
      "metadata": {
        "colab": {
          "base_uri": "https://localhost:8080/"
        },
        "id": "nUVLiZFbT64-",
        "outputId": "863b2362-3851-473d-94a6-11c28661f793"
      },
      "outputs": [
        {
          "output_type": "stream",
          "name": "stdout",
          "text": [
            "<class 'tuple'>\n",
            "((1234, 3541, 'hello'), (1, 2, 3))\n"
          ]
        }
      ],
      "source": [
        "#TUPLAS!!!! Podem definir inteiros e string's em uma mesma variável, e também é imutável!\n",
        "t = 1234,3541,'hello'\n",
        "print(type(t))\n",
        "\n",
        "u = t, (1,2,3)\n",
        "print(u)"
      ]
    },
    {
      "cell_type": "code",
      "source": [
        "#Aqui um exemplo em que o retorno seria a posição \"0\", ou seja, os números 1234\n",
        "t = 1234,3541,'hello'\n",
        "print(type(t))\n",
        "\n",
        "u = t, (1,2,3)\n",
        "print(t[0])"
      ],
      "metadata": {
        "colab": {
          "base_uri": "https://localhost:8080/"
        },
        "id": "K0E5GxKHUpoM",
        "outputId": "43934d02-c45c-4eb6-c338-a30c41b126f2"
      },
      "execution_count": 3,
      "outputs": [
        {
          "output_type": "stream",
          "name": "stdout",
          "text": [
            "<class 'tuple'>\n",
            "1234\n"
          ]
        }
      ]
    },
    {
      "cell_type": "code",
      "source": [
        "#Aqui um exemplo de tentativa de mudar o número da  posição \"0\" de 1234 para 555, retorna um erro, dizendo\n",
        "#que o objeto tupla não suporta atribuição de ítem ou uma mudança de variável, ou seja, são imutáveis\n",
        "t = 1234,3541,'hello'\n",
        "print(type(t))\n",
        "\n",
        "u = t, (1,2,3)\n",
        "print(t[0])\n",
        "t[0]= 555"
      ],
      "metadata": {
        "colab": {
          "base_uri": "https://localhost:8080/",
          "height": 211
        },
        "id": "xtRdxpfGVfJQ",
        "outputId": "63961bf1-b854-4303-b36e-d6f857f768fa"
      },
      "execution_count": 4,
      "outputs": [
        {
          "output_type": "stream",
          "name": "stdout",
          "text": [
            "<class 'tuple'>\n",
            "1234\n"
          ]
        },
        {
          "output_type": "error",
          "ename": "TypeError",
          "evalue": "'tuple' object does not support item assignment",
          "traceback": [
            "\u001b[0;31m---------------------------------------------------------------------------\u001b[0m",
            "\u001b[0;31mTypeError\u001b[0m                                 Traceback (most recent call last)",
            "\u001b[0;32m<ipython-input-4-568502de6936>\u001b[0m in \u001b[0;36m<cell line: 8>\u001b[0;34m()\u001b[0m\n\u001b[1;32m      6\u001b[0m \u001b[0mu\u001b[0m \u001b[0;34m=\u001b[0m \u001b[0mt\u001b[0m\u001b[0;34m,\u001b[0m \u001b[0;34m(\u001b[0m\u001b[0;36m1\u001b[0m\u001b[0;34m,\u001b[0m\u001b[0;36m2\u001b[0m\u001b[0;34m,\u001b[0m\u001b[0;36m3\u001b[0m\u001b[0;34m)\u001b[0m\u001b[0;34m\u001b[0m\u001b[0;34m\u001b[0m\u001b[0m\n\u001b[1;32m      7\u001b[0m \u001b[0mprint\u001b[0m\u001b[0;34m(\u001b[0m\u001b[0mt\u001b[0m\u001b[0;34m[\u001b[0m\u001b[0;36m0\u001b[0m\u001b[0;34m]\u001b[0m\u001b[0;34m)\u001b[0m\u001b[0;34m\u001b[0m\u001b[0;34m\u001b[0m\u001b[0m\n\u001b[0;32m----> 8\u001b[0;31m \u001b[0mt\u001b[0m\u001b[0;34m[\u001b[0m\u001b[0;36m0\u001b[0m\u001b[0;34m]\u001b[0m\u001b[0;34m=\u001b[0m \u001b[0;36m555\u001b[0m\u001b[0;34m\u001b[0m\u001b[0;34m\u001b[0m\u001b[0m\n\u001b[0m",
            "\u001b[0;31mTypeError\u001b[0m: 'tuple' object does not support item assignment"
          ]
        }
      ]
    },
    {
      "cell_type": "code",
      "source": [
        "#Principal diferença entre listas e tuplas, listas são mutáveis e tuplas são imutáveis\n",
        "#No exemplo abaixo, os números e a palavra 'hello' assumiram as posições de x,y,z, isso seria um unpacking\n",
        "x,y,z = t\n",
        "print(x,y,z)"
      ],
      "metadata": {
        "colab": {
          "base_uri": "https://localhost:8080/"
        },
        "id": "y2y-ZDMxWDu7",
        "outputId": "32a7d155-d4b2-4e96-9e54-6550d50e94b0"
      },
      "execution_count": 5,
      "outputs": [
        {
          "output_type": "stream",
          "name": "stdout",
          "text": [
            "1234 3541 hello\n"
          ]
        }
      ]
    },
    {
      "cell_type": "code",
      "source": [
        "#Neste exemplo, sem a vírgula ao final da segunda linha, o retorno é a informção de que a tupla é de uma classe string\n",
        "tupla_vazia = ()\n",
        "tupla_com_um_elemento = 'texto'\n",
        "print(type(tupla_com_um_elemento))"
      ],
      "metadata": {
        "colab": {
          "base_uri": "https://localhost:8080/"
        },
        "id": "OWzuSuwEWwuM",
        "outputId": "aafb232e-e6a9-4e91-9ebb-2a6037911107"
      },
      "execution_count": 6,
      "outputs": [
        {
          "output_type": "stream",
          "name": "stdout",
          "text": [
            "<class 'str'>\n"
          ]
        }
      ]
    },
    {
      "cell_type": "code",
      "source": [
        "#Neste exemplo, com a vírgula ao final da segunda linha, o retorno é a informção de que a tupla é de uma classe tupla\n",
        "tupla_vazia = ()\n",
        "tupla_com_um_elemento = 'texto',\n",
        "print(type(tupla_com_um_elemento))"
      ],
      "metadata": {
        "colab": {
          "base_uri": "https://localhost:8080/"
        },
        "id": "pLX6nFcEXgr6",
        "outputId": "66a58c47-b3b0-4a83-b216-73d621823f8f"
      },
      "execution_count": 7,
      "outputs": [
        {
          "output_type": "stream",
          "name": "stdout",
          "text": [
            "<class 'tuple'>\n"
          ]
        }
      ]
    },
    {
      "cell_type": "code",
      "source": [
        "#Aqui um exemplo em que o retorno informa a quantidade de elementos, neste caso apenas um elemento, que está entre parenteses (1234)\n",
        "a = t.count(1234)\n",
        "print(a)"
      ],
      "metadata": {
        "colab": {
          "base_uri": "https://localhost:8080/"
        },
        "id": "gvXPXLr_X7eT",
        "outputId": "1ba8a5fd-97bd-416e-939a-8d6b148b0318"
      },
      "execution_count": 8,
      "outputs": [
        {
          "output_type": "stream",
          "name": "stdout",
          "text": [
            "1\n"
          ]
        }
      ]
    },
    {
      "cell_type": "code",
      "source": [
        "#Lembrete, e posso criar tuplas com elementos mutáveis, ou seja, apenas os elementos dentro da lista, as tuplas vem entre parenteses"
      ],
      "metadata": {
        "id": "9lLrn-ggYhwB"
      },
      "execution_count": null,
      "outputs": []
    }
  ]
}