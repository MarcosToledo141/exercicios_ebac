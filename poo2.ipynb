{
  "nbformat": 4,
  "nbformat_minor": 0,
  "metadata": {
    "colab": {
      "provenance": [],
      "authorship_tag": "ABX9TyNHL5WAVfRXFgqx6wQ/b62P",
      "include_colab_link": true
    },
    "kernelspec": {
      "name": "python3",
      "display_name": "Python 3"
    },
    "language_info": {
      "name": "python"
    }
  },
  "cells": [
    {
      "cell_type": "markdown",
      "metadata": {
        "id": "view-in-github",
        "colab_type": "text"
      },
      "source": [
        "<a href=\"https://colab.research.google.com/github/MarcosToledo141/exercicios_ebac/blob/main/poo2.ipynb\" target=\"_parent\"><img src=\"https://colab.research.google.com/assets/colab-badge.svg\" alt=\"Open In Colab\"/></a>"
      ]
    },
    {
      "cell_type": "code",
      "execution_count": 3,
      "metadata": {
        "colab": {
          "base_uri": "https://localhost:8080/"
        },
        "id": "GXb1wYVAjjCG",
        "outputId": "ce8c6e6d-654f-46bc-df57-5dc04999f9d6"
      },
      "outputs": [
        {
          "output_type": "stream",
          "name": "stdout",
          "text": [
            "Luiz está andando\n",
            "Luiz está comendo\n",
            "Luiz está falando\n"
          ]
        }
      ],
      "source": [
        "#Método construtor, inserindo atributos\n",
        "class Pessoa:\n",
        "  def __init__(self,nome, idade, altura):\n",
        "    self.nome = nome\n",
        "    self.idade = idade\n",
        "    self.altura = altura\n",
        "\n",
        "  def andar(self):\n",
        "    print(f'{self.nome} está andando')\n",
        "\n",
        "  def falar(self):\n",
        "    print(f'{self.nome} está falando')\n",
        "\n",
        "  def comer(self):\n",
        "    print(f'{self.nome} está comendo')\n",
        "\n",
        "pessoa1 = Pessoa('Luiz',35, 1.78)\n",
        "pessoa1.andar()\n",
        "pessoa1.comer()\n",
        "pessoa1.falar()"
      ]
    },
    {
      "cell_type": "code",
      "source": [
        "#Métodos e atributos, trabalhando com SETTER e GETTER\n",
        "class Pessoa:\n",
        "  def __init__(self,nome, idade, altura, peso):\n",
        "    self.nome = nome\n",
        "    self.idade = idade\n",
        "    self.altura = altura\n",
        "    self.peso = peso\n",
        "\n",
        "  def imc(self):\n",
        "    return self.peso / (self.altura * self.altura)\n",
        "\n",
        "  #GETTER pega o valor de uma propriedade, mas ele precisa do SETTER (abaixo um decorator que é utilizado com @)\n",
        "  @property\n",
        "  def altura (self):\n",
        "    return self._altura\n",
        "\n",
        "  #SETTER, abaixo um decorator que é utilizado com @\n",
        "  @altura.setter\n",
        "  def altura (self,valor):\n",
        "  #Se a variável for da classe string vai retornar como verdade. se vier como inteiro ou float será falso e será atribuído o valor\n",
        "    if isinstance(valor,str):\n",
        "      valor = float(valor)\n",
        "    self._altura = valor\n",
        "\n",
        "pessoa1 = Pessoa('Luiz', 35, 1.78, 90)\n",
        "pessoa2 = Pessoa('Maria', 24, '1.68', 50)\n",
        "\n",
        "#print(pessoa2.altura)\n",
        "print(pessoa2.imc())"
      ],
      "metadata": {
        "colab": {
          "base_uri": "https://localhost:8080/"
        },
        "id": "Wg9UOz04lQtq",
        "outputId": "ee3254ce-6d1b-4c98-dae5-f915952ebaec"
      },
      "execution_count": 13,
      "outputs": [
        {
          "output_type": "stream",
          "name": "stdout",
          "text": [
            "17.71541950113379\n"
          ]
        }
      ]
    },
    {
      "cell_type": "code",
      "source": [],
      "metadata": {
        "id": "hvRxtOAso6q5"
      },
      "execution_count": null,
      "outputs": []
    }
  ]
}