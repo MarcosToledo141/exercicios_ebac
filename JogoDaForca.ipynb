{
  "nbformat": 4,
  "nbformat_minor": 0,
  "metadata": {
    "colab": {
      "provenance": [],
      "authorship_tag": "ABX9TyPGq3Uw2BJiuRRNc//J+qsQ",
      "include_colab_link": true
    },
    "kernelspec": {
      "name": "python3",
      "display_name": "Python 3"
    },
    "language_info": {
      "name": "python"
    }
  },
  "cells": [
    {
      "cell_type": "markdown",
      "metadata": {
        "id": "view-in-github",
        "colab_type": "text"
      },
      "source": [
        "<a href=\"https://colab.research.google.com/github/MarcosToledo141/exercicios_ebac/blob/main/JogoDaForca.ipynb\" target=\"_parent\"><img src=\"https://colab.research.google.com/assets/colab-badge.svg\" alt=\"Open In Colab\"/></a>"
      ]
    },
    {
      "cell_type": "code",
      "execution_count": 6,
      "metadata": {
        "colab": {
          "base_uri": "https://localhost:8080/",
          "height": 35
        },
        "id": "5_Tp2DRPcQQ9",
        "outputId": "0bfdf174-a5ef-47e7-bc83-78967a77540c"
      },
      "outputs": [
        {
          "output_type": "execute_result",
          "data": {
            "text/plain": [
              "'--------'"
            ],
            "application/vnd.google.colaboratory.intrinsic+json": {
              "type": "string"
            }
          },
          "metadata": {},
          "execution_count": 6
        }
      ],
      "source": [
        "import random\n",
        "\n",
        "#cria uma lista de palavras que serão sorteadas.\n",
        "palavras = ['python','programacao','computador','aula','variavel']\n",
        "\n",
        "#escolha das palavras, o random.choice escolhe aleatoriamente as palavras que estão dentro dos colchetes\n",
        "palavra_sorteada = random.choice(palavras)\n",
        "#print(palavra_sorteada) quando tira a # a escolha de palavras aparecem após a execução do código\n",
        "\n",
        "#Criamos uma string com traços que representam as letras\n",
        "palavra_escondida = '-' * len(palavra_sorteada) #Aqui mostra a quantidade de letras da palavra sorteada\n",
        "palavra_escondida"
      ]
    },
    {
      "cell_type": "code",
      "source": [
        "#cria uma lista de palavras que serão sorteadas.\n",
        "palavras = ['python','programacao','computador','aula','variavel']\n",
        "\n",
        "#escolha das palavras, o random.choice escolhe aleatoriamente as palavras que estão dentro dos colchetes\n",
        "palavra_sorteada = random.choice(palavras)\n",
        "\n",
        "#Criamos uma string com traços que representam as letras\n",
        "palavra_escondida = '-' * len(palavra_sorteada)\n",
        "\n",
        "#Criamos uma lista vazia para armazenar as letras que já foram faladas\n",
        "letras_adivinhadas = []\n",
        "\n",
        "max_tentativas = 6\n",
        "\n",
        "while True:\n",
        "  #mostrar na tela a palavra escondida\n",
        "  print(palavra_escondida)\n",
        "\n",
        "  #pedimos ao jogador para digitar uma letra\n",
        "  letra = input('Digite uma letra: ')\n",
        "\n",
        "  #verificamos se a letra já foi digitada\n",
        "  if letra in letras_adivinhadas:\n",
        "    print('Você já digitou essa letra. Tente outra por favor')\n",
        "    continue\n",
        "\n",
        "  #Adicionar a letra a lista de letras digitadas\n",
        "  letras_adivinhadas.append(letra)\n",
        "\n",
        "  #verificar se a letra digitada está na palavra sorteada\n",
        "  if letra in palavra_sorteada:\n",
        "    lista = []\n",
        "    for indice in range(len(palavra_sorteada)):\n",
        "      if letra == palavra_sorteada[indice]:\n",
        "        lista.append(letra)\n",
        "      else:\n",
        "        lista.append(palavra_escondida[indice])\n",
        "    palavra_escondida = ''.join(lista)\n",
        "\n",
        "  else: #letra não está na palavra sorteada\n",
        "    max_tentativas -= 1\n",
        "    print(f'Letra não encontrada. Você tem mais {max_tentativas} tentativas')\n",
        "\n",
        "  #Verificamos se o jogador ganhou ou perdeu\n",
        "  if palavra_escondida == palavra_sorteada:\n",
        "    print('Parabéns, você ganhou')\n",
        "    break\n",
        "  elif max_tentativas == 0:\n",
        "    print(f'Você perdeu. A palavra era {palavra_sorteada}.')\n",
        "    break"
      ],
      "metadata": {
        "colab": {
          "base_uri": "https://localhost:8080/"
        },
        "id": "Y9JYJhxrdItQ",
        "outputId": "18095837-fc43-46f9-e46d-0182644ab4b9"
      },
      "execution_count": 14,
      "outputs": [
        {
          "output_type": "stream",
          "name": "stdout",
          "text": [
            "----\n",
            "Digite uma letra: x\n",
            "Letra não encontrada. Você tem mais 5 tentativas\n",
            "----\n",
            "Digite uma letra: z\n",
            "Letra não encontrada. Você tem mais 4 tentativas\n",
            "----\n",
            "Digite uma letra: t\n",
            "Letra não encontrada. Você tem mais 3 tentativas\n",
            "----\n",
            "Digite uma letra: l\n",
            "--l-\n",
            "Digite uma letra: y\n",
            "Letra não encontrada. Você tem mais 2 tentativas\n",
            "--l-\n",
            "Digite uma letra: k\n",
            "Letra não encontrada. Você tem mais 1 tentativas\n",
            "--l-\n",
            "Digite uma letra: ç\n",
            "Letra não encontrada. Você tem mais 0 tentativas\n",
            "Você perdeu. A palavra era aula.\n"
          ]
        }
      ]
    }
  ]
}