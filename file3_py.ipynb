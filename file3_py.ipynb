{
  "nbformat": 4,
  "nbformat_minor": 0,
  "metadata": {
    "colab": {
      "provenance": [],
      "authorship_tag": "ABX9TyN1d3lP0wl0Y7cwMUFBuCX4",
      "include_colab_link": true
    },
    "kernelspec": {
      "name": "python3",
      "display_name": "Python 3"
    },
    "language_info": {
      "name": "python"
    }
  },
  "cells": [
    {
      "cell_type": "markdown",
      "metadata": {
        "id": "view-in-github",
        "colab_type": "text"
      },
      "source": [
        "<a href=\"https://colab.research.google.com/github/MarcosToledo141/exercicios_ebac/blob/main/file3_py.ipynb\" target=\"_parent\"><img src=\"https://colab.research.google.com/assets/colab-badge.svg\" alt=\"Open In Colab\"/></a>"
      ]
    },
    {
      "cell_type": "code",
      "execution_count": 1,
      "metadata": {
        "id": "rfbUxEO1GQ26"
      },
      "outputs": [],
      "source": [
        "with open('text.txt','w') as file:\n",
        "    file.write('Meu curso de Python\\n') #com o \\n no código, é criada uma nova linha\n",
        "    file.write('Aqui na DevSamurai')"
      ]
    },
    {
      "cell_type": "code",
      "source": [
        "with open('text.txt','a') as file:\n",
        "    file.write('\\nÉ muito legal!!!') #Acrescentando uma linha ao arquivo"
      ],
      "metadata": {
        "id": "4CQyemWEH_sc"
      },
      "execution_count": null,
      "outputs": []
    },
    {
      "cell_type": "markdown",
      "source": [
        "No exemplo acima, o primeiro código cria um arquivo e inclui uma nova linha\n",
        "No segundo código, é acrescentada mais uma linha, é importante notar que,\n",
        "trabalhando no VS Code, é preciso comentar o primeiro código para que o segundo\n",
        "código possa acessar o arquivo criado no primeiro código e incluir uma nova linha"
      ],
      "metadata": {
        "id": "2liGdzoCL324"
      }
    },
    {
      "cell_type": "code",
      "source": [],
      "metadata": {
        "id": "bQtiXuCXMd1S"
      },
      "execution_count": null,
      "outputs": []
    }
  ]
}