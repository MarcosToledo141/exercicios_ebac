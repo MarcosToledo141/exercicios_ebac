{
  "nbformat": 4,
  "nbformat_minor": 0,
  "metadata": {
    "colab": {
      "provenance": [],
      "authorship_tag": "ABX9TyNLhETwZk2clZX0fqkON6ik",
      "include_colab_link": true
    },
    "kernelspec": {
      "name": "python3",
      "display_name": "Python 3"
    },
    "language_info": {
      "name": "python"
    }
  },
  "cells": [
    {
      "cell_type": "markdown",
      "metadata": {
        "id": "view-in-github",
        "colab_type": "text"
      },
      "source": [
        "<a href=\"https://colab.research.google.com/github/MarcosToledo141/exercicios_ebac/blob/main/jogoDaForca.ipynb\" target=\"_parent\"><img src=\"https://colab.research.google.com/assets/colab-badge.svg\" alt=\"Open In Colab\"/></a>"
      ]
    },
    {
      "cell_type": "code",
      "execution_count": 1,
      "metadata": {
        "colab": {
          "base_uri": "https://localhost:8080/"
        },
        "id": "ix8mLF38IL9r",
        "outputId": "a843690a-63f9-473b-c2ca-e1d38eef388f"
      },
      "outputs": [
        {
          "output_type": "stream",
          "name": "stdout",
          "text": [
            "**********\n",
            "Digite uma letra: a\n",
            "******a***\n",
            "Digite uma letra: e\n",
            "Letra não encontrada. Você tem mais 5 tentativas.\n",
            "******a***\n",
            "Digite uma letra: v\n",
            "Letra não encontrada. Você tem mais 4 tentativas.\n",
            "******a***\n",
            "Digite uma letra: e\n",
            "Você já tentou essa letra. Tente outra.\n",
            "******a***\n",
            "Digite uma letra: i\n",
            "Letra não encontrada. Você tem mais 3 tentativas.\n",
            "******a***\n",
            "Digite uma letra: o\n",
            "*o****a*o*\n",
            "Digite uma letra: r\n",
            "*o****a*or\n",
            "Digite uma letra: p\n",
            "*o*p**a*or\n",
            "Digite uma letra: t\n",
            "*o*p*ta*or\n",
            "Digite uma letra: c\n",
            "co*p*ta*or\n",
            "Digite uma letra: m\n",
            "comp*ta*or\n",
            "Digite uma letra: u\n",
            "computa*or\n",
            "Digite uma letra: d\n",
            "Parabéns, você ganhou!\n"
          ]
        }
      ],
      "source": [
        "import random\n",
        "\n",
        "# Crie uma lista de palavras\n",
        "palavras = ['python', 'programacao', 'computador', 'algoritmo', 'variavel', 'lista']\n",
        "\n",
        "# Escolha uma palavra aleatoriamente\n",
        "palavra = random.choice(palavras)\n",
        "\n",
        "# Crie uma string com traços para representar as letras não adivinhadas\n",
        "palavra_escondida = '*' * len(palavra)\n",
        "\n",
        "# Crie uma lista para acompanhar as letras já adivinhadas\n",
        "letras_adivinhadas = []\n",
        "\n",
        "# Defina o número máximo de tentativas\n",
        "max_tentativas = 6\n",
        "\n",
        "# Loop principal do jogo\n",
        "while True:\n",
        "    # Exiba a palavra escondida\n",
        "    print(palavra_escondida)\n",
        "\n",
        "    # Peça ao jogador para digitar uma letra\n",
        "    letra = input('Digite uma letra: ')\n",
        "\n",
        "    # Verifique se a letra já foi adivinhada antes\n",
        "    if letra in letras_adivinhadas:\n",
        "        print('Você já tentou essa letra. Tente outra.')\n",
        "        continue\n",
        "\n",
        "    # Adicione a letra à lista de letras já adivinhadas\n",
        "    letras_adivinhadas.append(letra)\n",
        "\n",
        "    # Verifique se a letra está na palavra\n",
        "    if letra in palavra:\n",
        "        # Se a letra está na palavra, atualize a string com traços\n",
        "        # para mostrar a letra adivinhada\n",
        "        palavra_escondida = ''.join(letra if letra == palavra[indice]\n",
        "                                    else palavra_escondida[indice] for\n",
        "                                    indice in range (len(palavra)))\n",
        "        # lista = []\n",
        "        # for indice in range(len(palavra)):\n",
        "        #   if letra == palavra[indice]:\n",
        "        #     lista.append(letra)\n",
        "        #   else:\n",
        "        #     lista.append(palavra_escondida[indice])\n",
        "        # palavra_escondida = ''.join(lista)\n",
        "    else:\n",
        "        # Se a letra não está na palavra, diminua o número de tentativas restantes\n",
        "        max_tentativas -= 1\n",
        "        print('Letra não encontrada. Você tem mais', max_tentativas, 'tentativas.')\n",
        "\n",
        "    # Verifique se o jogador ganhou ou perdeu\n",
        "    if palavra_escondida == palavra:\n",
        "        print('Parabéns, você ganhou!')\n",
        "        break\n",
        "    elif max_tentativas == 0:\n",
        "        print('Você perdeu. A palavra era', palavra)\n",
        "        break"
      ]
    }
  ]
}