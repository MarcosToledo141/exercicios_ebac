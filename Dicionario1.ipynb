{
  "nbformat": 4,
  "nbformat_minor": 0,
  "metadata": {
    "colab": {
      "provenance": [],
      "authorship_tag": "ABX9TyP5tWVf3z9HeOxcJNKjGuD1",
      "include_colab_link": true
    },
    "kernelspec": {
      "name": "python3",
      "display_name": "Python 3"
    },
    "language_info": {
      "name": "python"
    }
  },
  "cells": [
    {
      "cell_type": "markdown",
      "metadata": {
        "id": "view-in-github",
        "colab_type": "text"
      },
      "source": [
        "<a href=\"https://colab.research.google.com/github/MarcosToledo141/exercicios_ebac/blob/main/Dicionario1.ipynb\" target=\"_parent\"><img src=\"https://colab.research.google.com/assets/colab-badge.svg\" alt=\"Open In Colab\"/></a>"
      ]
    },
    {
      "cell_type": "code",
      "execution_count": null,
      "metadata": {
        "colab": {
          "base_uri": "https://localhost:8080/"
        },
        "id": "bK8lhb5Jii-D",
        "outputId": "fc478f99-5128-4d49-992e-5f5f5efa7af0"
      },
      "outputs": [
        {
          "output_type": "stream",
          "name": "stdout",
          "text": [
            "['João', 'Silva']\n"
          ]
        }
      ],
      "source": [
        "#listas usamos []\n",
        "#tuplas usamos ()\n",
        "#strings usamos '' ou \"\"\n",
        "#dicionário {chave:valor} -> chave poderá ser uma string ou um int\n",
        "#O valor do dicionário pode ser lista, string.\n",
        "\n",
        "#criando um dicionário\n",
        "empregados = {'01':['João', 'Silva'], '02':['Maria', 'das Graças'], '03':['Paulo','José']}\n",
        "\n",
        "#print(type(empregados)) #Aqui imprime o tipo\n",
        "print(empregados['01']) #\"Aqui estamos acessando o valor do dicionário da posição 01\""
      ]
    },
    {
      "cell_type": "code",
      "source": [
        "empregados = {'01':['João', 'Silva'], '02':['Maria', 'das Graças'], '03':['Paulo','José']}\n",
        "\n",
        "empregados['04'] = ['Jose','Silva'] #\"Aqui estamos incluindo um elemento ao dicionário\"\n",
        "print(empregados)"
      ],
      "metadata": {
        "colab": {
          "base_uri": "https://localhost:8080/"
        },
        "id": "2j127RvHkFf3",
        "outputId": "f4441dd2-0402-4e0d-922e-6d1a5ba38cee"
      },
      "execution_count": null,
      "outputs": [
        {
          "output_type": "stream",
          "name": "stdout",
          "text": [
            "{'01': ['João', 'Silva'], '02': ['Maria', 'das Graças'], '03': ['Paulo', 'José'], '04': ['Jose', 'Silva']}\n"
          ]
        }
      ]
    },
    {
      "cell_type": "code",
      "source": [],
      "metadata": {
        "id": "iQzV7O9RY9wM"
      },
      "execution_count": null,
      "outputs": []
    },
    {
      "cell_type": "code",
      "source": [
        "empregados = {'01':['João', 'Silva'], '02':['Maria', 'das Graças'], '03':['Paulo','José']}\n",
        "\n",
        "empregados['04'] = ['Jose','Silva'] #Aqui estamos incluindo um elemento ao dicionário\n",
        "print(len(empregados)) #Aqui estamos listando a quantidade de elementos do dicionário"
      ],
      "metadata": {
        "colab": {
          "base_uri": "https://localhost:8080/"
        },
        "id": "s1O5qdq3mRUb",
        "outputId": "5d4a1a34-7476-4c8d-b5ca-b0f185cab0e5"
      },
      "execution_count": null,
      "outputs": [
        {
          "output_type": "stream",
          "name": "stdout",
          "text": [
            "4\n"
          ]
        }
      ]
    },
    {
      "cell_type": "code",
      "source": [
        "empregados = {'01':['João', 'Silva'], '02':['Maria', 'das Graças'], '03':['Paulo','José']}\n",
        "\n",
        "empregados['04'] = ['Jose','Silva']\n",
        "\n",
        "print('01' in empregados) #Aqui estamos perguntando se o funcionário 01 está em empregados, ou contida em empregados?"
      ],
      "metadata": {
        "colab": {
          "base_uri": "https://localhost:8080/"
        },
        "id": "NLtT6oFnmw4F",
        "outputId": "b5524042-f20b-44b5-c7e7-588f03926f15"
      },
      "execution_count": null,
      "outputs": [
        {
          "output_type": "stream",
          "name": "stdout",
          "text": [
            "True\n"
          ]
        }
      ]
    },
    {
      "cell_type": "code",
      "source": [
        "empregados = {'01':['João', 'Silva'], '02':['Maria', 'das Graças'], '03':['Paulo','José']}\n",
        "\n",
        "empregados['04'] = ['Jose','Silva']\n",
        "\n",
        "del empregados['01'] #Aqui estamos apagando um elemento da lista de empregados, observe que a resposta começa do elemento 2\n",
        "print(empregados)"
      ],
      "metadata": {
        "colab": {
          "base_uri": "https://localhost:8080/"
        },
        "id": "2dWj_whhnqjo",
        "outputId": "c8bda4dc-7b1e-4d21-af34-b8648544f4fe"
      },
      "execution_count": null,
      "outputs": [
        {
          "output_type": "stream",
          "name": "stdout",
          "text": [
            "{'02': ['Maria', 'das Graças'], '03': ['Paulo', 'José'], '04': ['Jose', 'Silva']}\n"
          ]
        }
      ]
    },
    {
      "cell_type": "code",
      "source": [
        "empregados = {'01':['João', 'Silva'], '02':['Maria', 'das Graças'], '03':['Paulo','José']}\n",
        "\n",
        "numero_func = input('Digite o número do funcionario:\\n')\n",
        "nome = input('Digite o nome:\\n')\n",
        "\n",
        "if empregados.get(numero_func):\n",
        "  print('Funcionario ja cadastrado')\n",
        "else:\n",
        "  empregados[numero_func]=[nome]\n",
        "\n",
        "print(empregados)"
      ],
      "metadata": {
        "id": "CRpF6xmBoTrf",
        "colab": {
          "base_uri": "https://localhost:8080/"
        },
        "outputId": "33d91ff3-1a87-470c-862e-1ab6ff9871a8"
      },
      "execution_count": null,
      "outputs": [
        {
          "output_type": "stream",
          "name": "stdout",
          "text": [
            "Digite o número do funcionario:\n",
            "04\n",
            "Digite o nome:\n",
            "Fulano de Tal\n",
            "{'01': ['João', 'Silva'], '02': ['Maria', 'das Graças'], '03': ['Paulo', 'José'], '04': ['Fulano de Tal']}\n"
          ]
        }
      ]
    },
    {
      "cell_type": "code",
      "source": [
        "empregados = {'01':['João', 'Silva'], '02':['Maria', 'das Graças'], '03':['Paulo','José']}\n",
        "\n",
        "empregados.setdefault('04',['Fulano de Tal'])\n",
        "print(empregados)"
      ],
      "metadata": {
        "colab": {
          "base_uri": "https://localhost:8080/"
        },
        "id": "8bxdAXnBIMH6",
        "outputId": "22264e73-bd99-48eb-b332-47fc82a6aa3b"
      },
      "execution_count": null,
      "outputs": [
        {
          "output_type": "stream",
          "name": "stdout",
          "text": [
            "{'01': ['João', 'Silva'], '02': ['Maria', 'das Graças'], '03': ['Paulo', 'José'], '04': ['Fulano de Tal']}\n"
          ]
        }
      ]
    },
    {
      "cell_type": "code",
      "source": [
        "empregados = {'01':['João', 'Silva'], '02':['Maria', 'das Graças'], '03':['Paulo','José']}\n",
        "empregados2 = {'04':['Fulano','de Tal'],'05':['Beltrano','de Tal']}\n",
        "\n",
        "empregados.update(empregados2)\n",
        "print(empregados)"
      ],
      "metadata": {
        "colab": {
          "base_uri": "https://localhost:8080/"
        },
        "id": "7hhRcxuLIZAw",
        "outputId": "a6cd302f-e719-43b9-cbed-fba669ee8687"
      },
      "execution_count": null,
      "outputs": [
        {
          "output_type": "stream",
          "name": "stdout",
          "text": [
            "{'01': ['João', 'Silva'], '02': ['Maria', 'das Graças'], '03': ['Paulo', 'José'], '04': ['Fulano', 'de Tal'], '05': ['Beltrano', 'de Tal']}\n"
          ]
        }
      ]
    },
    {
      "cell_type": "code",
      "source": [
        "#metodos úteis em dicionários são: keys() 'retornar as chaves', values() 'retornar os valores\", items() 'retornar os items"
      ],
      "metadata": {
        "id": "xCSryd6CMAcW"
      },
      "execution_count": null,
      "outputs": []
    },
    {
      "cell_type": "code",
      "source": [
        "#Exemplo de código do tipo dict_keys\n",
        "dias = {'Sex':'Sexta','Seg':'Segunda','Qua':'Quarta','Qui':'Quinta'}\n",
        "\n",
        "chaves = dias.keys()\n",
        "print(type(chaves))"
      ],
      "metadata": {
        "colab": {
          "base_uri": "https://localhost:8080/"
        },
        "id": "BwOfl88EZGnb",
        "outputId": "ca9f8060-1b62-46cc-8705-c42a90dfce41"
      },
      "execution_count": 1,
      "outputs": [
        {
          "output_type": "stream",
          "name": "stdout",
          "text": [
            "<class 'dict_keys'>\n"
          ]
        }
      ]
    },
    {
      "cell_type": "code",
      "source": [
        "#Exemplo código keys\n",
        "dias = {'Sex':'Sexta','Seg':'Segunda','Qua':'Quarta','Qui':'Quinta'}\n",
        "\n",
        "chaves = dias.keys()\n",
        "print(chaves)"
      ],
      "metadata": {
        "colab": {
          "base_uri": "https://localhost:8080/"
        },
        "id": "hS8YGGpSZ3s0",
        "outputId": "b6320364-a6b2-4c2a-d940-58e07997c441"
      },
      "execution_count": 2,
      "outputs": [
        {
          "output_type": "stream",
          "name": "stdout",
          "text": [
            "dict_keys(['Sex', 'Seg', 'Qua', 'Qui'])\n"
          ]
        }
      ]
    },
    {
      "cell_type": "code",
      "source": [
        "#Exemplo código keys\n",
        "dias = {'Sex':'Sexta','Seg':'Segunda','Qua':'Quarta','Qui':'Quinta'}\n",
        "\n",
        "chaves = dias.keys()\n",
        "for chave in chaves:\n",
        "  print(chave)"
      ],
      "metadata": {
        "colab": {
          "base_uri": "https://localhost:8080/"
        },
        "id": "kYXm9CqIaFTz",
        "outputId": "3edeaf2f-f990-40d4-8280-efa6b4c3d655"
      },
      "execution_count": 4,
      "outputs": [
        {
          "output_type": "stream",
          "name": "stdout",
          "text": [
            "Sex\n",
            "Seg\n",
            "Qua\n",
            "Qui\n"
          ]
        }
      ]
    },
    {
      "cell_type": "code",
      "source": [
        "#Exemplo código values\n",
        "dias = {'Sex':'Sexta','Seg':'Segunda','Qua':'Quarta','Qui':'Quinta'}\n",
        "\n",
        "value = dias.values()\n",
        "for value in value:\n",
        "  print(value, end=' ')"
      ],
      "metadata": {
        "colab": {
          "base_uri": "https://localhost:8080/"
        },
        "id": "p5arXHPdaWLo",
        "outputId": "e1286da3-cc42-496d-dcc0-746e8a0657e8"
      },
      "execution_count": 5,
      "outputs": [
        {
          "output_type": "stream",
          "name": "stdout",
          "text": [
            "Sexta Segunda Quarta Quinta "
          ]
        }
      ]
    },
    {
      "cell_type": "code",
      "source": [
        "#Exemplo código item\n",
        "dias = {'Sex':'Sexta','Seg':'Segunda','Qua':'Quarta','Qui':'Quinta'}\n",
        "\n",
        "for item in dias.items():\n",
        "  print(item)"
      ],
      "metadata": {
        "colab": {
          "base_uri": "https://localhost:8080/"
        },
        "id": "4lWPgmrTa-KN",
        "outputId": "2572e81e-5554-4fe7-8900-9a1454157eaa"
      },
      "execution_count": 6,
      "outputs": [
        {
          "output_type": "stream",
          "name": "stdout",
          "text": [
            "('Sex', 'Sexta')\n",
            "('Seg', 'Segunda')\n",
            "('Qua', 'Quarta')\n",
            "('Qui', 'Quinta')\n"
          ]
        }
      ]
    },
    {
      "cell_type": "code",
      "source": [
        "#removendo um dos dias ou das chaves\n",
        "dias = {'Sex':'Sexta','Seg':'Segunda','Qua':'Quarta','Qui':'Quinta'}\n",
        "\n",
        "dias.pop('Sex')\n",
        "print(dias)"
      ],
      "metadata": {
        "colab": {
          "base_uri": "https://localhost:8080/"
        },
        "id": "UmuuaI5EbQeA",
        "outputId": "295ca830-9ce2-4316-f5f0-e85e3b59436e"
      },
      "execution_count": 7,
      "outputs": [
        {
          "output_type": "stream",
          "name": "stdout",
          "text": [
            "{'Seg': 'Segunda', 'Qua': 'Quarta', 'Qui': 'Quinta'}\n"
          ]
        }
      ]
    },
    {
      "cell_type": "code",
      "source": [
        "dias = {'Sex':'Sexta','Seg':'Segunda','Qua':'Quarta','Qui':'Quinta'}\n",
        "dias_copy = dias\n",
        "dias_copy['Dom']='Domingo'\n",
        "print(dias)"
      ],
      "metadata": {
        "colab": {
          "base_uri": "https://localhost:8080/"
        },
        "id": "ZqjRaQ3Pbdqc",
        "outputId": "4bff0ab1-16cc-451d-9a6a-c1cd313e7e91"
      },
      "execution_count": 9,
      "outputs": [
        {
          "output_type": "stream",
          "name": "stdout",
          "text": [
            "{'Sex': 'Sexta', 'Seg': 'Segunda', 'Qua': 'Quarta', 'Qui': 'Quinta', 'Dom': 'Domingo'}\n"
          ]
        }
      ]
    },
    {
      "cell_type": "code",
      "source": [
        "dias = {'Sex':'Sexta','Seg':'Segunda','Qua':'Quarta','Qui':'Quinta'}\n",
        "\n",
        "import copy\n",
        "\n",
        "dias_copy = copy.deepcopy(dias)\n",
        "dias_copy['Dom'] = 'Domingo'\n",
        "\n",
        "print(f'Dicionario dias: {dias}')\n",
        "print(f'Dicionario dias_copy: {dias_copy}')"
      ],
      "metadata": {
        "colab": {
          "base_uri": "https://localhost:8080/"
        },
        "id": "EccEmhIdfydT",
        "outputId": "e9fdd52d-7707-4bdc-faeb-58ebcdca3e85"
      },
      "execution_count": 10,
      "outputs": [
        {
          "output_type": "stream",
          "name": "stdout",
          "text": [
            "Dicionario dias: {'Sex': 'Sexta', 'Seg': 'Segunda', 'Qua': 'Quarta', 'Qui': 'Quinta'}\n",
            "Dicionario dias_copy: {'Sex': 'Sexta', 'Seg': 'Segunda', 'Qua': 'Quarta', 'Qui': 'Quinta', 'Dom': 'Domingo'}\n"
          ]
        }
      ]
    },
    {
      "cell_type": "code",
      "source": [],
      "metadata": {
        "id": "Z-RR5-lEgton"
      },
      "execution_count": null,
      "outputs": []
    }
  ]
}