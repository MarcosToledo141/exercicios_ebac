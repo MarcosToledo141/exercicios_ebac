{
  "nbformat": 4,
  "nbformat_minor": 0,
  "metadata": {
    "colab": {
      "provenance": [],
      "authorship_tag": "ABX9TyOdmqR8NY3sHe8s5vcbrdq4",
      "include_colab_link": true
    },
    "kernelspec": {
      "name": "python3",
      "display_name": "Python 3"
    },
    "language_info": {
      "name": "python"
    }
  },
  "cells": [
    {
      "cell_type": "markdown",
      "metadata": {
        "id": "view-in-github",
        "colab_type": "text"
      },
      "source": [
        "<a href=\"https://colab.research.google.com/github/MarcosToledo141/exercicios_ebac/blob/main/TratandoErros_py.ipynb\" target=\"_parent\"><img src=\"https://colab.research.google.com/assets/colab-badge.svg\" alt=\"Open In Colab\"/></a>"
      ]
    },
    {
      "cell_type": "code",
      "execution_count": 2,
      "metadata": {
        "colab": {
          "base_uri": "https://localhost:8080/",
          "height": 211
        },
        "id": "vafktDZKQbN8",
        "outputId": "2c958bc1-301c-4e9d-b029-f210d6d44449"
      },
      "outputs": [
        {
          "name": "stdout",
          "output_type": "stream",
          "text": [
            "Digite um numerod\n"
          ]
        },
        {
          "output_type": "error",
          "ename": "ValueError",
          "evalue": "invalid literal for int() with base 10: 'd'",
          "traceback": [
            "\u001b[0;31m---------------------------------------------------------------------------\u001b[0m",
            "\u001b[0;31mValueError\u001b[0m                                Traceback (most recent call last)",
            "\u001b[0;32m<ipython-input-2-51e90e9d8a24>\u001b[0m in \u001b[0;36m<cell line: 1>\u001b[0;34m()\u001b[0m\n\u001b[1;32m      1\u001b[0m \u001b[0;32mwhile\u001b[0m \u001b[0;32mTrue\u001b[0m\u001b[0;34m:\u001b[0m\u001b[0;34m\u001b[0m\u001b[0;34m\u001b[0m\u001b[0m\n\u001b[0;32m----> 2\u001b[0;31m   \u001b[0mx\u001b[0m \u001b[0;34m=\u001b[0m \u001b[0mint\u001b[0m\u001b[0;34m(\u001b[0m\u001b[0minput\u001b[0m\u001b[0;34m(\u001b[0m\u001b[0;34m'Digite um numero'\u001b[0m\u001b[0;34m)\u001b[0m\u001b[0;34m)\u001b[0m\u001b[0;34m\u001b[0m\u001b[0;34m\u001b[0m\u001b[0m\n\u001b[0m\u001b[1;32m      3\u001b[0m   \u001b[0;32mbreak\u001b[0m\u001b[0;34m\u001b[0m\u001b[0;34m\u001b[0m\u001b[0m\n\u001b[1;32m      4\u001b[0m \u001b[0mprint\u001b[0m\u001b[0;34m(\u001b[0m\u001b[0;34mf'O numero digitado foi {x}'\u001b[0m\u001b[0;34m)\u001b[0m\u001b[0;34m\u001b[0m\u001b[0;34m\u001b[0m\u001b[0m\n",
            "\u001b[0;31mValueError\u001b[0m: invalid literal for int() with base 10: 'd'"
          ]
        }
      ],
      "source": [
        "while True:\n",
        "  x = int(input('Digite um numero'))\n",
        "  break\n",
        "print(f'O numero digitado foi {x}')"
      ]
    },
    {
      "cell_type": "code",
      "source": [
        "#No exemplo acima foi digitada uma letra, abaixo como vamos tratar esse erro, quando o usuário digitar uma letra ao invés de um número\n",
        "while True:\n",
        "  try:\n",
        "    x = int(input('Digite um numero:'))\n",
        "    break\n",
        "  except:\n",
        "    print('Digite um numero entre zero e nove, por favor.')\n",
        "\n",
        "print(f'O numero digitado foi {x}')"
      ],
      "metadata": {
        "colab": {
          "base_uri": "https://localhost:8080/"
        },
        "id": "yOh7Q--6RDdo",
        "outputId": "c68ec8bf-b609-4c98-81b2-81d4fca303c9"
      },
      "execution_count": 4,
      "outputs": [
        {
          "output_type": "stream",
          "name": "stdout",
          "text": [
            "Digite um numero:t\n",
            "Digite um numero entre zero e nove, por favor.\n",
            "Digite um numero:r\n",
            "Digite um numero entre zero e nove, por favor.\n",
            "Digite um numero:7\n",
            "O numero digitado foi 7\n"
          ]
        }
      ]
    },
    {
      "cell_type": "code",
      "source": [
        "#Tratando o erro para que o código continue\n",
        "try:\n",
        "  x = int(input('Digite um numero:'))\n",
        "except ValueError as erro: #especificando o tipo de erro\n",
        "  print(f'Aconteceu um erro do tipo: {erro}')\n",
        "\n",
        "print('O programa segue normalmente')"
      ],
      "metadata": {
        "colab": {
          "base_uri": "https://localhost:8080/"
        },
        "id": "LAWyrEz1TDXy",
        "outputId": "1e831272-18a0-4618-c17c-fb4c9d9b1b7d"
      },
      "execution_count": 6,
      "outputs": [
        {
          "output_type": "stream",
          "name": "stdout",
          "text": [
            "Digite um numero:t\n",
            "Aconteceu um erro do tipo: invalid literal for int() with base 10: 't'\n",
            "O programa segue normalmente\n"
          ]
        }
      ]
    },
    {
      "cell_type": "code",
      "source": [
        "#Aqui ocorre um erro de índice, então o código já mostra o erro após execução\n",
        "try:\n",
        "    lista = []\n",
        "    lista[1]\n",
        "    x = int(input('Digite um numero:'))\n",
        "except ValueError as erro:\n",
        "  print(f'Aconteceu um erro do tipo: {erro}')\n",
        "except:\n",
        "  print('Ocorreu um erro inesperado')\n",
        "\n",
        "print('O programa segue normalmente')"
      ],
      "metadata": {
        "colab": {
          "base_uri": "https://localhost:8080/"
        },
        "id": "SXQQHGm6Ta0U",
        "outputId": "598aa409-114c-4867-ac8f-bbb5a4e3b2da"
      },
      "execution_count": 7,
      "outputs": [
        {
          "output_type": "stream",
          "name": "stdout",
          "text": [
            "Ocorreu um erro inesperado\n",
            "O programa segue normalmente\n"
          ]
        }
      ]
    }
  ]
}