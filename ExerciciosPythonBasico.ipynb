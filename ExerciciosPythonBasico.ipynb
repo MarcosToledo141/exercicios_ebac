{
  "nbformat": 4,
  "nbformat_minor": 0,
  "metadata": {
    "colab": {
      "provenance": [],
      "authorship_tag": "ABX9TyN8Q2Q5Cawb8r65T5siaRDi",
      "include_colab_link": true
    },
    "kernelspec": {
      "name": "python3",
      "display_name": "Python 3"
    },
    "language_info": {
      "name": "python"
    }
  },
  "cells": [
    {
      "cell_type": "markdown",
      "metadata": {
        "id": "view-in-github",
        "colab_type": "text"
      },
      "source": [
        "<a href=\"https://colab.research.google.com/github/MarcosToledo141/exercicios_ebac/blob/main/ExerciciosPythonBasico.ipynb\" target=\"_parent\"><img src=\"https://colab.research.google.com/assets/colab-badge.svg\" alt=\"Open In Colab\"/></a>"
      ]
    },
    {
      "cell_type": "code",
      "execution_count": null,
      "metadata": {
        "colab": {
          "base_uri": "https://localhost:8080/"
        },
        "id": "Y3UzRrTdHtZt",
        "outputId": "3b1c3c8b-4bb6-47e5-c05b-89a388b40901"
      },
      "outputs": [
        {
          "output_type": "stream",
          "name": "stdout",
          "text": [
            "Digite a temperatura em graus Fahrenheit:80\n",
            "A temperatura em graus Celsius é: 26.666666666666668\n"
          ]
        }
      ],
      "source": [
        "fahrenheit = eval(input('Digite a temperatura em graus Fahrenheit:'))\n",
        "celsius = ( 5 / 9) * (fahrenheit - 32)\n",
        "print(f'A temperatura em graus Celsius é: {celsius}')"
      ]
    },
    {
      "cell_type": "code",
      "source": [
        "temp = eval(input('Digite a temperatura:'))\n",
        "if temp >= 40:\n",
        "  print('está muito calor')\n",
        "elif temp > 30:\n",
        "  print('Está agradável')\n",
        "else:\n",
        "  print('Está frio')\n"
      ],
      "metadata": {
        "colab": {
          "base_uri": "https://localhost:8080/"
        },
        "id": "MlH1wmXLIgbD",
        "outputId": "d380cad8-1d3c-4194-8259-c53eca5ea85c"
      },
      "execution_count": null,
      "outputs": [
        {
          "output_type": "stream",
          "name": "stdout",
          "text": [
            "Digite a temperatura:47\n",
            "está muito calor\n"
          ]
        }
      ]
    },
    {
      "cell_type": "code",
      "source": [
        "nota1 = eval(input('Digite a primeira nota'))\n",
        "nota2 = eval(input('Digite a segunda nota'))\n",
        "media = (nota1 + nota2) / 2\n",
        "if media >= 7:\n",
        "  print(f'Você está aprovado com a média: {media}, Parabéns!')\n",
        "elif media >= 5 and media < 7:\n",
        "  print('Você está de recuperação')\n",
        "else:\n",
        "  print('Você não está aprovado')"
      ],
      "metadata": {
        "colab": {
          "base_uri": "https://localhost:8080/"
        },
        "id": "Hz4WMiWTJn0i",
        "outputId": "0ee7796e-8af1-4525-8680-c6bef5c0e567"
      },
      "execution_count": null,
      "outputs": [
        {
          "output_type": "stream",
          "name": "stdout",
          "text": [
            "Digite a primeira nota4\n",
            "Digite a segunda nota3\n",
            "Você não está aprovado\n"
          ]
        }
      ]
    },
    {
      "cell_type": "code",
      "source": [
        "numero = 0\n",
        "while numero <=10:\n",
        "  print(numero)\n",
        "  numero += 1\n",
        "print('Acabou o loop while')"
      ],
      "metadata": {
        "colab": {
          "base_uri": "https://localhost:8080/"
        },
        "id": "ycRh6_XmR0tz",
        "outputId": "06d21448-f051-480a-e087-d07517b829bd"
      },
      "execution_count": null,
      "outputs": [
        {
          "output_type": "stream",
          "name": "stdout",
          "text": [
            "0\n",
            "1\n",
            "2\n",
            "3\n",
            "4\n",
            "5\n",
            "6\n",
            "7\n",
            "8\n",
            "9\n",
            "10\n",
            "Acabou o loop while\n"
          ]
        }
      ]
    },
    {
      "cell_type": "code",
      "source": [
        "numero_max = eval(input('Digite um numero:'))\n",
        "numero = 0\n",
        "while numero <= numero_max:\n",
        "  print(numero)\n",
        "  numero += 1"
      ],
      "metadata": {
        "colab": {
          "base_uri": "https://localhost:8080/"
        },
        "id": "WO2xg_iEyRlq",
        "outputId": "3353eb96-4a7a-4789-f4eb-7acd25a3dfb5"
      },
      "execution_count": null,
      "outputs": [
        {
          "output_type": "stream",
          "name": "stdout",
          "text": [
            "Digite um numero:10\n",
            "0\n",
            "1\n",
            "2\n",
            "3\n",
            "4\n",
            "5\n",
            "6\n",
            "7\n",
            "8\n",
            "9\n",
            "10\n"
          ]
        }
      ]
    },
    {
      "cell_type": "code",
      "source": [
        "for dia in ['Segunda','terça','Quarta','Quinta','Sexta']:\n",
        "  print(dia)"
      ],
      "metadata": {
        "colab": {
          "base_uri": "https://localhost:8080/"
        },
        "id": "3VxH7NvJzSju",
        "outputId": "455d85ab-af0d-4920-d5c7-42d457dede63"
      },
      "execution_count": null,
      "outputs": [
        {
          "output_type": "stream",
          "name": "stdout",
          "text": [
            "Segunda\n",
            "terça\n",
            "Quarta\n",
            "Quinta\n",
            "Sexta\n"
          ]
        }
      ]
    },
    {
      "cell_type": "code",
      "source": [
        "for numero in [0,1,2,3,4,5,6,7]:\n",
        "  print(numero,end=\" \")"
      ],
      "metadata": {
        "colab": {
          "base_uri": "https://localhost:8080/"
        },
        "id": "jrnUL4UM87dD",
        "outputId": "08b5b026-3c23-428f-c0a8-a360d75b9b3a"
      },
      "execution_count": null,
      "outputs": [
        {
          "output_type": "stream",
          "name": "stdout",
          "text": [
            "0 1 2 3 4 5 6 7 "
          ]
        }
      ]
    },
    {
      "cell_type": "code",
      "source": [
        "for numero in range(30):\n",
        "  print(numero,end=\" \")"
      ],
      "metadata": {
        "colab": {
          "base_uri": "https://localhost:8080/"
        },
        "id": "RehioSLX9Jas",
        "outputId": "c3300c60-32b8-478f-856d-46076601bd48"
      },
      "execution_count": null,
      "outputs": [
        {
          "output_type": "stream",
          "name": "stdout",
          "text": [
            "0 1 2 3 4 5 6 7 8 9 10 11 12 13 14 15 16 17 18 19 20 21 22 23 24 25 26 27 28 29 "
          ]
        }
      ]
    },
    {
      "cell_type": "code",
      "source": [
        "for numero in range(5,30):\n",
        "  print(numero,end=\" \")"
      ],
      "metadata": {
        "colab": {
          "base_uri": "https://localhost:8080/"
        },
        "id": "mOHNdHqd9ziq",
        "outputId": "69df0f64-9d60-444c-90ca-6277b0a89cbb"
      },
      "execution_count": null,
      "outputs": [
        {
          "output_type": "stream",
          "name": "stdout",
          "text": [
            "5 6 7 8 9 10 11 12 13 14 15 16 17 18 19 20 21 22 23 24 25 26 27 28 29 "
          ]
        }
      ]
    },
    {
      "cell_type": "code",
      "source": [
        "for numero in range(5,31,5):\n",
        "  print(numero,end=\" \")"
      ],
      "metadata": {
        "colab": {
          "base_uri": "https://localhost:8080/"
        },
        "id": "SYKqoKYW9-0a",
        "outputId": "f0ca04ee-84a5-4064-e47a-9fe07b8f7dd2"
      },
      "execution_count": null,
      "outputs": [
        {
          "output_type": "stream",
          "name": "stdout",
          "text": [
            "5 10 15 20 25 30 "
          ]
        }
      ]
    },
    {
      "cell_type": "code",
      "source": [
        "#função sem retorno e sem passagem de parâmetro\n",
        "def ola_mundo():\n",
        "  'Funções que mostra uma mensagem padrão na tela.'\n",
        "  print('Olá Mundo!')\n",
        "\n",
        "help(ola_mundo)\n",
        "ola_mundo()"
      ],
      "metadata": {
        "id": "T8ycnQKe-RvN",
        "colab": {
          "base_uri": "https://localhost:8080/"
        },
        "outputId": "e97ea099-3e21-4296-a2c7-b160f590e477"
      },
      "execution_count": 7,
      "outputs": [
        {
          "output_type": "stream",
          "name": "stdout",
          "text": [
            "Help on function ola_mundo in module __main__:\n",
            "\n",
            "ola_mundo()\n",
            "    Funções que mostra uma mensagem padrão na tela.\n",
            "\n",
            "Olá Mundo!\n"
          ]
        }
      ]
    },
    {
      "cell_type": "code",
      "source": [
        "#função sem retorno e com passagem de parâmetro\n",
        "def ola_mundo(name):\n",
        "  'Função que mostra um texto customizado na tela.'\n",
        "  print(f'Olá Mundo, meu nome é {name}')\n",
        "\n",
        "name = input('Qual o seu nome? ')\n",
        "ola_mundo(name)"
      ],
      "metadata": {
        "colab": {
          "base_uri": "https://localhost:8080/"
        },
        "id": "a3OzHR6LQ-7t",
        "outputId": "f9b0bd2c-dcfb-4ffe-c547-4a9fc009e242"
      },
      "execution_count": 20,
      "outputs": [
        {
          "output_type": "stream",
          "name": "stdout",
          "text": [
            "Qual o seu nome? Marcos\n",
            "Olá Mundo, meu nome é Marcos\n"
          ]
        }
      ]
    },
    {
      "cell_type": "code",
      "source": [
        "#função sem retorno e com passagem de parâmetro\n",
        "def ola_mundo(name='Toledo'):\n",
        "  'Função que mostra um texto customizado na tela.'\n",
        "  print(f'Olá Mundo, meu nome é {name}')\n",
        "\n",
        "name = input('Qual o seu nome? ')\n",
        "ola_mundo()"
      ],
      "metadata": {
        "colab": {
          "base_uri": "https://localhost:8080/"
        },
        "id": "-D9L2HLpSfqG",
        "outputId": "93f34af8-1e12-4472-ab5d-37d381c4f517"
      },
      "execution_count": 12,
      "outputs": [
        {
          "output_type": "stream",
          "name": "stdout",
          "text": [
            "Qual o seu nome? Marcos\n",
            "Olá Mundo, meu nome é Toledo\n"
          ]
        }
      ]
    },
    {
      "cell_type": "code",
      "source": [
        "#função com retorno e com passagem de parâmetro\n",
        "def soma(a,b):\n",
        "  'Função que recebe dois números e realiza a soma entre eles'\n",
        "  return a+b\n",
        "\n",
        "resultado = soma(3,4)\n",
        "print(resultado)"
      ],
      "metadata": {
        "colab": {
          "base_uri": "https://localhost:8080/"
        },
        "id": "KfhEb04MTd_M",
        "outputId": "c2985b63-6870-4446-d078-6e0d8433045b"
      },
      "execution_count": 15,
      "outputs": [
        {
          "output_type": "stream",
          "name": "stdout",
          "text": [
            "7\n"
          ]
        }
      ]
    },
    {
      "cell_type": "code",
      "source": [
        "#Escreva uma função que calcule o quadrado do número passado como parâmetro. Se nenhum número for passado use como padrão o número 5\n",
        "#Exemplo abaixo passado com o número padrão 5\n",
        "def quadrado(numero=5):\n",
        "  return numero * numero\n",
        "\n",
        "quadrado()"
      ],
      "metadata": {
        "colab": {
          "base_uri": "https://localhost:8080/"
        },
        "id": "k_bYPNhdYhak",
        "outputId": "0db2c09c-caab-4488-90ab-7f8ac9793818"
      },
      "execution_count": 22,
      "outputs": [
        {
          "output_type": "execute_result",
          "data": {
            "text/plain": [
              "25"
            ]
          },
          "metadata": {},
          "execution_count": 22
        }
      ]
    },
    {
      "cell_type": "code",
      "source": [
        "#Escreva uma função que calcule o quadrado do número passado como parâmetro. Se nenhum número for passado use como padrão o número 5\n",
        "#Exemplo abaixo passado com um número como parâmetro, neste caso o 4, se tirar o quadro a conta será feita com o 5\n",
        "def quadrado(numero=5):\n",
        "  return numero * numero\n",
        "\n",
        "quadrado(4)"
      ],
      "metadata": {
        "colab": {
          "base_uri": "https://localhost:8080/"
        },
        "id": "gRB_Lj8cbjMD",
        "outputId": "9b331fb4-33fb-4026-8244-f134a82b16df"
      },
      "execution_count": 23,
      "outputs": [
        {
          "output_type": "execute_result",
          "data": {
            "text/plain": [
              "16"
            ]
          },
          "metadata": {},
          "execution_count": 23
        }
      ]
    },
    {
      "cell_type": "code",
      "source": [
        "#Escreva uma função que receba como parâmetro uma temperatura em graus Fahreinheit e converta para graus Celsius\n",
        "def temperatura(temp):\n",
        "  celsius = (5/9)*(temp - 32)\n",
        "  return celsius\n",
        "\n",
        "print(temperatura(32))\n",
        "print(temperatura(10))\n",
        "print(temperatura(50))"
      ],
      "metadata": {
        "colab": {
          "base_uri": "https://localhost:8080/"
        },
        "id": "EqOoV7RidSiD",
        "outputId": "95f17516-5891-4361-db60-6f31a1ba11db"
      },
      "execution_count": 28,
      "outputs": [
        {
          "output_type": "stream",
          "name": "stdout",
          "text": [
            "0.0\n",
            "-12.222222222222223\n",
            "10.0\n"
          ]
        }
      ]
    },
    {
      "cell_type": "code",
      "source": [
        "#Escreva uma função que receba dois parâmetros. O primeiro será uma palavra, se ela for quadrado deverá calcular o quadrado\n",
        "#do número passado como segundo parâmetro. Se a palavra for cubo deverá realizar o cálculo do cubo do número passado\n",
        "def calculo(comando,numero):\n",
        "  if comando == 'quadrado':\n",
        "    return numero * numero\n",
        "  else:\n",
        "    return numero * numero * numero\n",
        "\n",
        "print(calculo('cubo',2))\n",
        "print(calculo('quadrado',3))"
      ],
      "metadata": {
        "colab": {
          "base_uri": "https://localhost:8080/"
        },
        "id": "QY7Mic75d5va",
        "outputId": "f7d5a124-5759-4992-d208-7a10682a606d"
      },
      "execution_count": 31,
      "outputs": [
        {
          "output_type": "stream",
          "name": "stdout",
          "text": [
            "8\n",
            "9\n"
          ]
        }
      ]
    },
    {
      "cell_type": "code",
      "source": [],
      "metadata": {
        "id": "kt-d7BgwgE20"
      },
      "execution_count": null,
      "outputs": []
    }
  ]
}