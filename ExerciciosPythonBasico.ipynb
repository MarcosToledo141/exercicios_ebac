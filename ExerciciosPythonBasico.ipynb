{
  "nbformat": 4,
  "nbformat_minor": 0,
  "metadata": {
    "colab": {
      "provenance": [],
      "authorship_tag": "ABX9TyML18Jw419PqHylHa39mm24",
      "include_colab_link": true
    },
    "kernelspec": {
      "name": "python3",
      "display_name": "Python 3"
    },
    "language_info": {
      "name": "python"
    }
  },
  "cells": [
    {
      "cell_type": "markdown",
      "metadata": {
        "id": "view-in-github",
        "colab_type": "text"
      },
      "source": [
        "<a href=\"https://colab.research.google.com/github/MarcosToledo141/exercicios_ebac/blob/main/ExerciciosPythonBasico.ipynb\" target=\"_parent\"><img src=\"https://colab.research.google.com/assets/colab-badge.svg\" alt=\"Open In Colab\"/></a>"
      ]
    },
    {
      "cell_type": "code",
      "execution_count": null,
      "metadata": {
        "colab": {
          "base_uri": "https://localhost:8080/"
        },
        "id": "Y3UzRrTdHtZt",
        "outputId": "3b1c3c8b-4bb6-47e5-c05b-89a388b40901"
      },
      "outputs": [
        {
          "output_type": "stream",
          "name": "stdout",
          "text": [
            "Digite a temperatura em graus Fahrenheit:80\n",
            "A temperatura em graus Celsius é: 26.666666666666668\n"
          ]
        }
      ],
      "source": [
        "fahrenheit = eval(input('Digite a temperatura em graus Fahrenheit:'))\n",
        "celsius = ( 5 / 9) * (fahrenheit - 32)\n",
        "print(f'A temperatura em graus Celsius é: {celsius}')"
      ]
    },
    {
      "cell_type": "code",
      "source": [
        "temp = eval(input('Digite a temperatura:'))\n",
        "if temp >= 40:\n",
        "  print('está muito calor')\n",
        "elif temp > 30:\n",
        "  print('Está agradável')\n",
        "else:\n",
        "  print('Está frio')\n"
      ],
      "metadata": {
        "colab": {
          "base_uri": "https://localhost:8080/"
        },
        "id": "MlH1wmXLIgbD",
        "outputId": "d380cad8-1d3c-4194-8259-c53eca5ea85c"
      },
      "execution_count": null,
      "outputs": [
        {
          "output_type": "stream",
          "name": "stdout",
          "text": [
            "Digite a temperatura:47\n",
            "está muito calor\n"
          ]
        }
      ]
    },
    {
      "cell_type": "code",
      "source": [
        "nota1 = eval(input('Digite a primeira nota'))\n",
        "nota2 = eval(input('Digite a segunda nota'))\n",
        "media = (nota1 + nota2) / 2\n",
        "if media >= 7:\n",
        "  print(f'Você está aprovado com a média: {media}, Parabéns!')\n",
        "elif media >= 5 and media < 7:\n",
        "  print('Você está de recuperação')\n",
        "else:\n",
        "  print('Você não está aprovado')"
      ],
      "metadata": {
        "colab": {
          "base_uri": "https://localhost:8080/"
        },
        "id": "Hz4WMiWTJn0i",
        "outputId": "0ee7796e-8af1-4525-8680-c6bef5c0e567"
      },
      "execution_count": null,
      "outputs": [
        {
          "output_type": "stream",
          "name": "stdout",
          "text": [
            "Digite a primeira nota4\n",
            "Digite a segunda nota3\n",
            "Você não está aprovado\n"
          ]
        }
      ]
    },
    {
      "cell_type": "code",
      "source": [
        "numero = 0\n",
        "while numero <=10:\n",
        "  print(numero)\n",
        "  numero += 1\n",
        "print('Acabou o loop while')"
      ],
      "metadata": {
        "colab": {
          "base_uri": "https://localhost:8080/"
        },
        "id": "ycRh6_XmR0tz",
        "outputId": "06d21448-f051-480a-e087-d07517b829bd"
      },
      "execution_count": null,
      "outputs": [
        {
          "output_type": "stream",
          "name": "stdout",
          "text": [
            "0\n",
            "1\n",
            "2\n",
            "3\n",
            "4\n",
            "5\n",
            "6\n",
            "7\n",
            "8\n",
            "9\n",
            "10\n",
            "Acabou o loop while\n"
          ]
        }
      ]
    },
    {
      "cell_type": "code",
      "source": [
        "numero_max = eval(input('Digite um numero:'))\n",
        "numero = 0\n",
        "while numero <= numero_max:\n",
        "  print(numero)\n",
        "  numero += 1"
      ],
      "metadata": {
        "colab": {
          "base_uri": "https://localhost:8080/"
        },
        "id": "WO2xg_iEyRlq",
        "outputId": "3353eb96-4a7a-4789-f4eb-7acd25a3dfb5"
      },
      "execution_count": null,
      "outputs": [
        {
          "output_type": "stream",
          "name": "stdout",
          "text": [
            "Digite um numero:10\n",
            "0\n",
            "1\n",
            "2\n",
            "3\n",
            "4\n",
            "5\n",
            "6\n",
            "7\n",
            "8\n",
            "9\n",
            "10\n"
          ]
        }
      ]
    },
    {
      "cell_type": "code",
      "source": [
        "for dia in ['Segunda','terça','Quarta','Quinta','Sexta']:\n",
        "  print(dia)"
      ],
      "metadata": {
        "colab": {
          "base_uri": "https://localhost:8080/"
        },
        "id": "3VxH7NvJzSju",
        "outputId": "455d85ab-af0d-4920-d5c7-42d457dede63"
      },
      "execution_count": null,
      "outputs": [
        {
          "output_type": "stream",
          "name": "stdout",
          "text": [
            "Segunda\n",
            "terça\n",
            "Quarta\n",
            "Quinta\n",
            "Sexta\n"
          ]
        }
      ]
    },
    {
      "cell_type": "code",
      "source": [
        "for numero in [0,1,2,3,4,5,6,7]:\n",
        "  print(numero,end=\" \")"
      ],
      "metadata": {
        "colab": {
          "base_uri": "https://localhost:8080/"
        },
        "id": "jrnUL4UM87dD",
        "outputId": "08b5b026-3c23-428f-c0a8-a360d75b9b3a"
      },
      "execution_count": null,
      "outputs": [
        {
          "output_type": "stream",
          "name": "stdout",
          "text": [
            "0 1 2 3 4 5 6 7 "
          ]
        }
      ]
    },
    {
      "cell_type": "code",
      "source": [
        "for numero in range(30):\n",
        "  print(numero,end=\" \")"
      ],
      "metadata": {
        "colab": {
          "base_uri": "https://localhost:8080/"
        },
        "id": "RehioSLX9Jas",
        "outputId": "c3300c60-32b8-478f-856d-46076601bd48"
      },
      "execution_count": null,
      "outputs": [
        {
          "output_type": "stream",
          "name": "stdout",
          "text": [
            "0 1 2 3 4 5 6 7 8 9 10 11 12 13 14 15 16 17 18 19 20 21 22 23 24 25 26 27 28 29 "
          ]
        }
      ]
    },
    {
      "cell_type": "code",
      "source": [
        "for numero in range(5,30):\n",
        "  print(numero,end=\" \")"
      ],
      "metadata": {
        "colab": {
          "base_uri": "https://localhost:8080/"
        },
        "id": "mOHNdHqd9ziq",
        "outputId": "69df0f64-9d60-444c-90ca-6277b0a89cbb"
      },
      "execution_count": null,
      "outputs": [
        {
          "output_type": "stream",
          "name": "stdout",
          "text": [
            "5 6 7 8 9 10 11 12 13 14 15 16 17 18 19 20 21 22 23 24 25 26 27 28 29 "
          ]
        }
      ]
    },
    {
      "cell_type": "code",
      "source": [
        "for numero in range(5,31,5):\n",
        "  print(numero,end=\" \")"
      ],
      "metadata": {
        "colab": {
          "base_uri": "https://localhost:8080/"
        },
        "id": "SYKqoKYW9-0a",
        "outputId": "f0ca04ee-84a5-4064-e47a-9fe07b8f7dd2"
      },
      "execution_count": null,
      "outputs": [
        {
          "output_type": "stream",
          "name": "stdout",
          "text": [
            "5 10 15 20 25 30 "
          ]
        }
      ]
    },
    {
      "cell_type": "code",
      "source": [
        "#função sem retorno e sem passagem de parâmetro\n",
        "def ola_mundo():\n",
        "  'Funções que mostra uma mensagem padrão na tela.'\n",
        "  print('Olá Mundo!')\n",
        "\n",
        "help(ola_mundo)\n",
        "ola_mundo()"
      ],
      "metadata": {
        "id": "T8ycnQKe-RvN",
        "colab": {
          "base_uri": "https://localhost:8080/"
        },
        "outputId": "e97ea099-3e21-4296-a2c7-b160f590e477"
      },
      "execution_count": null,
      "outputs": [
        {
          "output_type": "stream",
          "name": "stdout",
          "text": [
            "Help on function ola_mundo in module __main__:\n",
            "\n",
            "ola_mundo()\n",
            "    Funções que mostra uma mensagem padrão na tela.\n",
            "\n",
            "Olá Mundo!\n"
          ]
        }
      ]
    },
    {
      "cell_type": "code",
      "source": [
        "#função sem retorno e com passagem de parâmetro\n",
        "def ola_mundo(name):\n",
        "  'Função que mostra um texto customizado na tela.'\n",
        "  print(f'Olá Mundo, meu nome é {name}')\n",
        "\n",
        "name = input('Qual o seu nome? ')\n",
        "ola_mundo(name)"
      ],
      "metadata": {
        "colab": {
          "base_uri": "https://localhost:8080/"
        },
        "id": "a3OzHR6LQ-7t",
        "outputId": "f9b0bd2c-dcfb-4ffe-c547-4a9fc009e242"
      },
      "execution_count": null,
      "outputs": [
        {
          "output_type": "stream",
          "name": "stdout",
          "text": [
            "Qual o seu nome? Marcos\n",
            "Olá Mundo, meu nome é Marcos\n"
          ]
        }
      ]
    },
    {
      "cell_type": "code",
      "source": [
        "#função sem retorno e com passagem de parâmetro\n",
        "def ola_mundo(name='Toledo'):\n",
        "  'Função que mostra um texto customizado na tela.'\n",
        "  print(f'Olá Mundo, meu nome é {name}')\n",
        "\n",
        "name = input('Qual o seu nome? ')\n",
        "ola_mundo()"
      ],
      "metadata": {
        "colab": {
          "base_uri": "https://localhost:8080/"
        },
        "id": "-D9L2HLpSfqG",
        "outputId": "93f34af8-1e12-4472-ab5d-37d381c4f517"
      },
      "execution_count": null,
      "outputs": [
        {
          "output_type": "stream",
          "name": "stdout",
          "text": [
            "Qual o seu nome? Marcos\n",
            "Olá Mundo, meu nome é Toledo\n"
          ]
        }
      ]
    },
    {
      "cell_type": "code",
      "source": [
        "#função com retorno e com passagem de parâmetro\n",
        "def soma(a,b):\n",
        "  'Função que recebe dois números e realiza a soma entre eles'\n",
        "  return a+b\n",
        "\n",
        "resultado = soma(3,4)\n",
        "print(resultado)"
      ],
      "metadata": {
        "colab": {
          "base_uri": "https://localhost:8080/"
        },
        "id": "KfhEb04MTd_M",
        "outputId": "c2985b63-6870-4446-d078-6e0d8433045b"
      },
      "execution_count": null,
      "outputs": [
        {
          "output_type": "stream",
          "name": "stdout",
          "text": [
            "7\n"
          ]
        }
      ]
    },
    {
      "cell_type": "code",
      "source": [
        "#Escreva uma função que calcule o quadrado do número passado como parâmetro. Se nenhum número for passado use como padrão o número 5\n",
        "#Exemplo abaixo passado com o número padrão 5\n",
        "def quadrado(numero=5):\n",
        "  return numero * numero\n",
        "\n",
        "quadrado()"
      ],
      "metadata": {
        "colab": {
          "base_uri": "https://localhost:8080/"
        },
        "id": "k_bYPNhdYhak",
        "outputId": "0db2c09c-caab-4488-90ab-7f8ac9793818"
      },
      "execution_count": null,
      "outputs": [
        {
          "output_type": "execute_result",
          "data": {
            "text/plain": [
              "25"
            ]
          },
          "metadata": {},
          "execution_count": 22
        }
      ]
    },
    {
      "cell_type": "code",
      "source": [
        "#Escreva uma função que calcule o quadrado do número passado como parâmetro. Se nenhum número for passado use como padrão o número 5\n",
        "#Exemplo abaixo passado com um número como parâmetro, neste caso o 4, se tirar o quadro a conta será feita com o 5\n",
        "def quadrado(numero=5):\n",
        "  return numero * numero\n",
        "\n",
        "quadrado(4)"
      ],
      "metadata": {
        "colab": {
          "base_uri": "https://localhost:8080/"
        },
        "id": "gRB_Lj8cbjMD",
        "outputId": "9b331fb4-33fb-4026-8244-f134a82b16df"
      },
      "execution_count": null,
      "outputs": [
        {
          "output_type": "execute_result",
          "data": {
            "text/plain": [
              "16"
            ]
          },
          "metadata": {},
          "execution_count": 23
        }
      ]
    },
    {
      "cell_type": "code",
      "source": [
        "#Escreva uma função que receba como parâmetro uma temperatura em graus Fahreinheit e converta para graus Celsius\n",
        "def temperatura(temp):\n",
        "  celsius = (5/9)*(temp - 32)\n",
        "  return celsius\n",
        "\n",
        "print(temperatura(32))\n",
        "print(temperatura(10))\n",
        "print(temperatura(50))"
      ],
      "metadata": {
        "colab": {
          "base_uri": "https://localhost:8080/"
        },
        "id": "EqOoV7RidSiD",
        "outputId": "95f17516-5891-4361-db60-6f31a1ba11db"
      },
      "execution_count": null,
      "outputs": [
        {
          "output_type": "stream",
          "name": "stdout",
          "text": [
            "0.0\n",
            "-12.222222222222223\n",
            "10.0\n"
          ]
        }
      ]
    },
    {
      "cell_type": "code",
      "source": [
        "#Escreva uma função que receba dois parâmetros. O primeiro será uma palavra, se ela for quadrado deverá calcular o quadrado\n",
        "#do número passado como segundo parâmetro. Se a palavra for cubo deverá realizar o cálculo do cubo do número passado\n",
        "def calculo(comando,numero):\n",
        "  if comando == 'quadrado':\n",
        "    return numero * numero\n",
        "  else:\n",
        "    return numero * numero * numero\n",
        "\n",
        "print(calculo('cubo',2))\n",
        "print(calculo('quadrado',3))"
      ],
      "metadata": {
        "colab": {
          "base_uri": "https://localhost:8080/"
        },
        "id": "QY7Mic75d5va",
        "outputId": "f7d5a124-5759-4992-d208-7a10682a606d"
      },
      "execution_count": null,
      "outputs": [
        {
          "output_type": "stream",
          "name": "stdout",
          "text": [
            "8\n",
            "9\n"
          ]
        }
      ]
    },
    {
      "cell_type": "code",
      "source": [
        "'Sou uma string'"
      ],
      "metadata": {
        "colab": {
          "base_uri": "https://localhost:8080/",
          "height": 35
        },
        "id": "kt-d7BgwgE20",
        "outputId": "0177f040-12f9-44a0-b925-d0be518f6e6e"
      },
      "execution_count": null,
      "outputs": [
        {
          "output_type": "execute_result",
          "data": {
            "text/plain": [
              "'Sou uma string'"
            ],
            "application/vnd.google.colaboratory.intrinsic+json": {
              "type": "string"
            }
          },
          "metadata": {},
          "execution_count": 1
        }
      ]
    },
    {
      "cell_type": "code",
      "source": [
        "\"Sou uma string\""
      ],
      "metadata": {
        "colab": {
          "base_uri": "https://localhost:8080/",
          "height": 35
        },
        "id": "LoDMSp3LGhEY",
        "outputId": "6b34bdfb-dea3-421f-8102-9a10ba65759d"
      },
      "execution_count": null,
      "outputs": [
        {
          "output_type": "execute_result",
          "data": {
            "text/plain": [
              "'Sou uma string'"
            ],
            "application/vnd.google.colaboratory.intrinsic+json": {
              "type": "string"
            }
          },
          "metadata": {},
          "execution_count": 2
        }
      ]
    },
    {
      "cell_type": "code",
      "source": [
        "s='Sou uma string'\n",
        "type(s)"
      ],
      "metadata": {
        "colab": {
          "base_uri": "https://localhost:8080/"
        },
        "id": "LOgk8swtGjWy",
        "outputId": "5dd96312-924b-4d08-8a9d-bc8461b3a67a"
      },
      "execution_count": null,
      "outputs": [
        {
          "output_type": "execute_result",
          "data": {
            "text/plain": [
              "str"
            ]
          },
          "metadata": {},
          "execution_count": 3
        }
      ]
    },
    {
      "cell_type": "code",
      "source": [
        "s='ola'\n",
        "s == 'ola'"
      ],
      "metadata": {
        "colab": {
          "base_uri": "https://localhost:8080/"
        },
        "id": "V2QM2NwbGqNq",
        "outputId": "46171e29-c02d-4512-9fbc-92a87ee19d41"
      },
      "execution_count": null,
      "outputs": [
        {
          "output_type": "execute_result",
          "data": {
            "text/plain": [
              "True"
            ]
          },
          "metadata": {},
          "execution_count": 4
        }
      ]
    },
    {
      "cell_type": "code",
      "source": [
        "t='mundo'\n",
        "s+t #concatenação de string"
      ],
      "metadata": {
        "colab": {
          "base_uri": "https://localhost:8080/",
          "height": 35
        },
        "id": "rx9g05GaGxsQ",
        "outputId": "2ee39fdf-b708-4e83-8f33-b75a03ec51d8"
      },
      "execution_count": null,
      "outputs": [
        {
          "output_type": "execute_result",
          "data": {
            "text/plain": [
              "'olamundo'"
            ],
            "application/vnd.google.colaboratory.intrinsic+json": {
              "type": "string"
            }
          },
          "metadata": {},
          "execution_count": 5
        }
      ]
    },
    {
      "cell_type": "code",
      "source": [
        "s + ' ' + t"
      ],
      "metadata": {
        "colab": {
          "base_uri": "https://localhost:8080/",
          "height": 35
        },
        "id": "2s2edrQhG70m",
        "outputId": "8fd98032-f451-47fd-97ae-feb685921dd8"
      },
      "execution_count": null,
      "outputs": [
        {
          "output_type": "execute_result",
          "data": {
            "text/plain": [
              "'ola mundo'"
            ],
            "application/vnd.google.colaboratory.intrinsic+json": {
              "type": "string"
            }
          },
          "metadata": {},
          "execution_count": 6
        }
      ]
    },
    {
      "cell_type": "code",
      "source": [
        "'-'*3"
      ],
      "metadata": {
        "colab": {
          "base_uri": "https://localhost:8080/",
          "height": 35
        },
        "id": "G30j5V6uHEh7",
        "outputId": "70e51401-6192-4eab-9b3b-24d48cf0ef05"
      },
      "execution_count": null,
      "outputs": [
        {
          "output_type": "execute_result",
          "data": {
            "text/plain": [
              "'---'"
            ],
            "application/vnd.google.colaboratory.intrinsic+json": {
              "type": "string"
            }
          },
          "metadata": {},
          "execution_count": 7
        }
      ]
    },
    {
      "cell_type": "code",
      "source": [
        "4*'A'"
      ],
      "metadata": {
        "colab": {
          "base_uri": "https://localhost:8080/",
          "height": 35
        },
        "id": "7zazkLzaHO-N",
        "outputId": "d4f6254a-a33c-4b97-ba29-b9d5d551fc53"
      },
      "execution_count": null,
      "outputs": [
        {
          "output_type": "execute_result",
          "data": {
            "text/plain": [
              "'AAAA'"
            ],
            "application/vnd.google.colaboratory.intrinsic+json": {
              "type": "string"
            }
          },
          "metadata": {},
          "execution_count": 8
        }
      ]
    },
    {
      "cell_type": "code",
      "source": [
        "'m' in t"
      ],
      "metadata": {
        "colab": {
          "base_uri": "https://localhost:8080/"
        },
        "id": "13In-A6cHa9o",
        "outputId": "77616c08-fc4f-4b8b-e079-256dd8611548"
      },
      "execution_count": null,
      "outputs": [
        {
          "output_type": "execute_result",
          "data": {
            "text/plain": [
              "True"
            ]
          },
          "metadata": {},
          "execution_count": 9
        }
      ]
    },
    {
      "cell_type": "code",
      "source": [
        "'M' in t"
      ],
      "metadata": {
        "colab": {
          "base_uri": "https://localhost:8080/"
        },
        "id": "AVG9Qg9sHi3J",
        "outputId": "dc684f9c-31e7-47e6-ae9d-39d2cca81e76"
      },
      "execution_count": null,
      "outputs": [
        {
          "output_type": "execute_result",
          "data": {
            "text/plain": [
              "False"
            ]
          },
          "metadata": {},
          "execution_count": 10
        }
      ]
    },
    {
      "cell_type": "code",
      "source": [
        "'n' or 'N' in t"
      ],
      "metadata": {
        "colab": {
          "base_uri": "https://localhost:8080/",
          "height": 35
        },
        "id": "SfA3p-XIHluc",
        "outputId": "846027fa-1ace-4c7b-9723-78fba8bf6ab8"
      },
      "execution_count": null,
      "outputs": [
        {
          "output_type": "execute_result",
          "data": {
            "text/plain": [
              "'n'"
            ],
            "application/vnd.google.colaboratory.intrinsic+json": {
              "type": "string"
            }
          },
          "metadata": {},
          "execution_count": 11
        }
      ]
    },
    {
      "cell_type": "code",
      "source": [
        "len(t) # o len retorna o comprimento da string, por exemplo, a palavra mundo da string 't' tem 5 letras"
      ],
      "metadata": {
        "colab": {
          "base_uri": "https://localhost:8080/"
        },
        "id": "bRKMBxjHHs8t",
        "outputId": "e5a575f2-40fa-44fb-db8b-8461574eff6e"
      },
      "execution_count": null,
      "outputs": [
        {
          "output_type": "execute_result",
          "data": {
            "text/plain": [
              "5"
            ]
          },
          "metadata": {},
          "execution_count": 12
        }
      ]
    },
    {
      "cell_type": "code",
      "source": [
        "type('3')"
      ],
      "metadata": {
        "colab": {
          "base_uri": "https://localhost:8080/"
        },
        "id": "o-usAiRRH0Dz",
        "outputId": "fb227ef2-4e37-44eb-8480-767df31c4d9e"
      },
      "execution_count": null,
      "outputs": [
        {
          "output_type": "execute_result",
          "data": {
            "text/plain": [
              "str"
            ]
          },
          "metadata": {},
          "execution_count": 13
        }
      ]
    },
    {
      "cell_type": "code",
      "source": [
        "#Indexação de string\n",
        "s = 'Curso de Python'\n",
        "s[0] #Neste caso, o número \"0\", retorna a primeria posição da string, neste caso a letra \"C\""
      ],
      "metadata": {
        "id": "vsYohL9QIDsr",
        "colab": {
          "base_uri": "https://localhost:8080/",
          "height": 35
        },
        "outputId": "84800bb0-f3bd-44a7-e54d-25f59ffa268b"
      },
      "execution_count": 6,
      "outputs": [
        {
          "output_type": "execute_result",
          "data": {
            "text/plain": [
              "'C'"
            ],
            "application/vnd.google.colaboratory.intrinsic+json": {
              "type": "string"
            }
          },
          "metadata": {},
          "execution_count": 6
        }
      ]
    },
    {
      "cell_type": "code",
      "source": [
        "len(s)b#Indica a quantidade posições da stringa acima, neste caso, a frase \"Curso de Python\", tem 15 posições, incluindo os espaços"
      ],
      "metadata": {
        "colab": {
          "base_uri": "https://localhost:8080/"
        },
        "id": "KEwsIWmsmcTG",
        "outputId": "36da86a9-1ac1-40de-b3fb-64af94f2b930"
      },
      "execution_count": 3,
      "outputs": [
        {
          "output_type": "execute_result",
          "data": {
            "text/plain": [
              "15"
            ]
          },
          "metadata": {},
          "execution_count": 3
        }
      ]
    },
    {
      "cell_type": "code",
      "source": [
        "nova_string=s[0:5] #Isso significa slice, ou seja, retorna da posição ou caracter 0 até a posição 5, neste caso, a palavra \"Curso\"\n",
        "print(nova_string)"
      ],
      "metadata": {
        "colab": {
          "base_uri": "https://localhost:8080/"
        },
        "id": "c-tyDqfGmhPb",
        "outputId": "8ef91b45-ef57-4176-8ae4-5b2029ce4115"
      },
      "execution_count": 7,
      "outputs": [
        {
          "output_type": "stream",
          "name": "stdout",
          "text": [
            "Curso\n"
          ]
        }
      ]
    },
    {
      "cell_type": "code",
      "source": [
        "nova_string=s[:5] #Apagando o número \"0\", tem o memso retorno\n",
        "print(nova_string)"
      ],
      "metadata": {
        "colab": {
          "base_uri": "https://localhost:8080/"
        },
        "id": "Oq9YVI7MnTDB",
        "outputId": "027bff83-c5d8-4960-825d-024fa6cb637b"
      },
      "execution_count": 9,
      "outputs": [
        {
          "output_type": "stream",
          "name": "stdout",
          "text": [
            "Curso\n"
          ]
        }
      ]
    },
    {
      "cell_type": "code",
      "source": [
        "nova_string=s[2:5] # Aqui foram selecionadas as letras da posição 2 até a 5, então retorna o \"rso\", sempre lembrando que o \"0\" conta como a primeira posição\n",
        "print(nova_string)"
      ],
      "metadata": {
        "colab": {
          "base_uri": "https://localhost:8080/"
        },
        "id": "0RgNpvAhnx_S",
        "outputId": "8d41a34e-2838-4fd8-d4f5-8dfd4824d06e"
      },
      "execution_count": 10,
      "outputs": [
        {
          "output_type": "stream",
          "name": "stdout",
          "text": [
            "rso\n"
          ]
        }
      ]
    },
    {
      "cell_type": "code",
      "source": [
        "s[-1] # Índices negativos, a contagem é da direita para a esquerda, por isso, neste caso, retorna a letra \"n\" que á a última letra, e vice e versa"
      ],
      "metadata": {
        "colab": {
          "base_uri": "https://localhost:8080/",
          "height": 35
        },
        "id": "wSanm_mnn8nZ",
        "outputId": "e23450c0-2971-4b00-bd0c-fe03126a866a"
      },
      "execution_count": 11,
      "outputs": [
        {
          "output_type": "execute_result",
          "data": {
            "text/plain": [
              "'n'"
            ],
            "application/vnd.google.colaboratory.intrinsic+json": {
              "type": "string"
            }
          },
          "metadata": {},
          "execution_count": 11
        }
      ]
    },
    {
      "cell_type": "code",
      "source": [
        "# Funções Built-in de Strings\n",
        "s = ' Ola Mundo em Python'\n",
        "help(s.count) #Quando digitamos s. o Python mostra diversas funções disponíveis, pra entender a função, selecione e coloque help, como no exemplo\n",
        "              #a esquerda, então retornará uma explicação da função selecionada, como podemos ver abaixo a explicação da função s.count"
      ],
      "metadata": {
        "colab": {
          "base_uri": "https://localhost:8080/"
        },
        "id": "CMEHC6xdof-p",
        "outputId": "3953c841-9f43-4e1f-bc1f-6ca2df355553"
      },
      "execution_count": 15,
      "outputs": [
        {
          "output_type": "stream",
          "name": "stdout",
          "text": [
            "Help on built-in function count:\n",
            "\n",
            "count(...) method of builtins.str instance\n",
            "    S.count(sub[, start[, end]]) -> int\n",
            "    \n",
            "    Return the number of non-overlapping occurrences of substring sub in\n",
            "    string S[start:end].  Optional arguments start and end are\n",
            "    interpreted as in slice notation.\n",
            "\n"
          ]
        }
      ]
    },
    {
      "cell_type": "code",
      "source": [
        "s.count('a') #Esta função retorna quantas letras 'a' existem na string 'Ola Mundo em Python', neste caso uma vez"
      ],
      "metadata": {
        "colab": {
          "base_uri": "https://localhost:8080/"
        },
        "id": "7hTOjv9rpsFm",
        "outputId": "0fa9992e-9f36-4339-9ece-2193a1d458fe"
      },
      "execution_count": 18,
      "outputs": [
        {
          "output_type": "execute_result",
          "data": {
            "text/plain": [
              "1"
            ]
          },
          "metadata": {},
          "execution_count": 18
        }
      ]
    },
    {
      "cell_type": "code",
      "source": [
        "s.lower() #Dica, se ao digitar s. não aparecer a lista de funções, segure Control e de espaço que a lista irá aparecer\n",
        "          # Esta função 's.lower', deixou a frase toda em letra minúscula, como podemos ver abaixo"
      ],
      "metadata": {
        "colab": {
          "base_uri": "https://localhost:8080/",
          "height": 35
        },
        "id": "Fp_kyItgqdwy",
        "outputId": "ef5a4ec9-3cc5-467b-920a-8ad5e568f618"
      },
      "execution_count": 19,
      "outputs": [
        {
          "output_type": "execute_result",
          "data": {
            "text/plain": [
              "' ola mundo em python'"
            ],
            "application/vnd.google.colaboratory.intrinsic+json": {
              "type": "string"
            }
          },
          "metadata": {},
          "execution_count": 19
        }
      ]
    },
    {
      "cell_type": "code",
      "source": [
        "s.upper() #Esta função s.upper deixou a frase toda em letra maiúscula, como podemos ver abaixo"
      ],
      "metadata": {
        "colab": {
          "base_uri": "https://localhost:8080/",
          "height": 35
        },
        "id": "D7de75GFrUSJ",
        "outputId": "09c622f8-00d6-4876-8a6c-1cbdc2041156"
      },
      "execution_count": 20,
      "outputs": [
        {
          "output_type": "execute_result",
          "data": {
            "text/plain": [
              "' OLA MUNDO EM PYTHON'"
            ],
            "application/vnd.google.colaboratory.intrinsic+json": {
              "type": "string"
            }
          },
          "metadata": {},
          "execution_count": 20
        }
      ]
    },
    {
      "cell_type": "code",
      "source": [
        "s.split() #Esta função s.split, cria uma lista contendo todas as palavras da frase/string, como podemos ver abaixo"
      ],
      "metadata": {
        "colab": {
          "base_uri": "https://localhost:8080/"
        },
        "id": "1kTnYp00riaU",
        "outputId": "bd774d34-b703-4d42-d570-4a939bb5a67e"
      },
      "execution_count": 21,
      "outputs": [
        {
          "output_type": "execute_result",
          "data": {
            "text/plain": [
              "['Ola', 'Mundo', 'em', 'Python']"
            ]
          },
          "metadata": {},
          "execution_count": 21
        }
      ]
    },
    {
      "cell_type": "code",
      "source": [
        "s.split('o') #Aqui a função retirou a letra 'o' da frase/string, neste caso apenas o minúsculo"
      ],
      "metadata": {
        "colab": {
          "base_uri": "https://localhost:8080/"
        },
        "id": "1_pWrz81rwIT",
        "outputId": "343c816d-56cf-4e74-b5c2-632e92bb3104"
      },
      "execution_count": 23,
      "outputs": [
        {
          "output_type": "execute_result",
          "data": {
            "text/plain": [
              "[' Ola Mund', ' em Pyth', 'n']"
            ]
          },
          "metadata": {},
          "execution_count": 23
        }
      ]
    },
    {
      "cell_type": "code",
      "source": [],
      "metadata": {
        "id": "03H_wIoOsFIG"
      },
      "execution_count": null,
      "outputs": []
    },
    {
      "cell_type": "markdown",
      "source": [
        "Listas, o colchete junto ao nome faz indexação, colchete depois do igual, defina uma lista"
      ],
      "metadata": {
        "id": "GTpo1f4YsAOS"
      }
    },
    {
      "cell_type": "code",
      "source": [],
      "metadata": {
        "id": "CgLTbfYqscZw"
      },
      "execution_count": null,
      "outputs": []
    },
    {
      "cell_type": "markdown",
      "source": [],
      "metadata": {
        "id": "hfLTT5CtsL-O"
      }
    },
    {
      "cell_type": "code",
      "source": [
        "animais = ['cachorro','gato','elefante'] #Detalhe, dentro deste colchete, tudo que está dentro de aspas são strings\n",
        "type(animais) #O código type informa qual o tipo, neste caso list que significa lista"
      ],
      "metadata": {
        "colab": {
          "base_uri": "https://localhost:8080/"
        },
        "id": "qf5L1e_csCw7",
        "outputId": "f997353f-4ec0-4c7b-c1d1-5c94b1e5b992"
      },
      "execution_count": 1,
      "outputs": [
        {
          "output_type": "execute_result",
          "data": {
            "text/plain": [
              "list"
            ]
          },
          "metadata": {},
          "execution_count": 1
        }
      ]
    },
    {
      "cell_type": "code",
      "source": [
        "animais[1] #Aqoui informa em qual índeice estão os animais, por exemplo, em '0' está o cachorro, e sucessivamente"
      ],
      "metadata": {
        "colab": {
          "base_uri": "https://localhost:8080/",
          "height": 35
        },
        "id": "jLcXEUDLspbc",
        "outputId": "04fb3b9d-3bdc-4a88-9828-81c8d3da5f80"
      },
      "execution_count": 3,
      "outputs": [
        {
          "output_type": "execute_result",
          "data": {
            "text/plain": [
              "'gato'"
            ],
            "application/vnd.google.colaboratory.intrinsic+json": {
              "type": "string"
            }
          },
          "metadata": {},
          "execution_count": 3
        }
      ]
    },
    {
      "cell_type": "code",
      "source": [
        "len(animais)"
      ],
      "metadata": {
        "colab": {
          "base_uri": "https://localhost:8080/"
        },
        "id": "HIPhghCxtGcA",
        "outputId": "1910ac91-98f9-4a51-a14c-9bb319c32d83"
      },
      "execution_count": 4,
      "outputs": [
        {
          "output_type": "execute_result",
          "data": {
            "text/plain": [
              "3"
            ]
          },
          "metadata": {},
          "execution_count": 4
        }
      ]
    },
    {
      "cell_type": "code",
      "source": [
        "mais_animais = ['girafa','pato','macaco'] #Aqui foram incluídos os animais das duas listas, primeiro exemplo\n",
        "animais + mais_animais"
      ],
      "metadata": {
        "colab": {
          "base_uri": "https://localhost:8080/"
        },
        "id": "BP3Sv7mxtrms",
        "outputId": "1ab4112a-e334-4e18-aea8-37577c879022"
      },
      "execution_count": 12,
      "outputs": [
        {
          "output_type": "execute_result",
          "data": {
            "text/plain": [
              "['cachorro', 'gato', 'elefante', 'girafa', 'pato', 'macaco']"
            ]
          },
          "metadata": {},
          "execution_count": 12
        }
      ]
    },
    {
      "cell_type": "code",
      "source": [
        "mais_animais = ['girafa','pato','macaco'] #Aqui foram incluídos os animais das duas listas, segundo exemplo\n",
        "nova_lista = animais + mais_animais\n",
        "print(nova_lista)"
      ],
      "metadata": {
        "colab": {
          "base_uri": "https://localhost:8080/"
        },
        "id": "pvCX0mzKt0BF",
        "outputId": "88615e41-3c77-4f55-f8a7-ffe2743a7bc8"
      },
      "execution_count": 11,
      "outputs": [
        {
          "output_type": "stream",
          "name": "stdout",
          "text": [
            "['cachorro', 'gato', 'elefante', 'girafa', 'pato', 'macaco']\n"
          ]
        }
      ]
    },
    {
      "cell_type": "code",
      "source": [
        "'pato' in nova_lista #Desta forma seria a seguinte pergunta: Tem pato na minha lista?"
      ],
      "metadata": {
        "colab": {
          "base_uri": "https://localhost:8080/"
        },
        "id": "qFTZtPnouc4N",
        "outputId": "0f4240d6-17d6-4796-faa3-139a6ca26c1c"
      },
      "execution_count": 13,
      "outputs": [
        {
          "output_type": "execute_result",
          "data": {
            "text/plain": [
              "True"
            ]
          },
          "metadata": {},
          "execution_count": 13
        }
      ]
    },
    {
      "cell_type": "code",
      "source": [
        "diversas = ['string', 3, 4.6] #Aqui um exmplo de que é possível misturar lista que tem string e inteiro, a lista armazena todos os elementos\n",
        "diversas[0]"
      ],
      "metadata": {
        "colab": {
          "base_uri": "https://localhost:8080/",
          "height": 35
        },
        "id": "NkKk2KnAuhND",
        "outputId": "a62009d9-fe72-4130-d000-6e94f3d08034"
      },
      "execution_count": 16,
      "outputs": [
        {
          "output_type": "execute_result",
          "data": {
            "text/plain": [
              "'string'"
            ],
            "application/vnd.google.colaboratory.intrinsic+json": {
              "type": "string"
            }
          },
          "metadata": {},
          "execution_count": 16
        }
      ]
    },
    {
      "cell_type": "code",
      "source": [
        "diversas[2]"
      ],
      "metadata": {
        "colab": {
          "base_uri": "https://localhost:8080/"
        },
        "id": "uNeP768avJGZ",
        "outputId": "57ed8747-5bd0-498d-8cfb-e43f349a40fb"
      },
      "execution_count": 17,
      "outputs": [
        {
          "output_type": "execute_result",
          "data": {
            "text/plain": [
              "4.6"
            ]
          },
          "metadata": {},
          "execution_count": 17
        }
      ]
    },
    {
      "cell_type": "code",
      "source": [
        "valores = [10,20,30,40] #Neste exemplo foram solicitados o menor e maior valores, O min e max só resolve com lista de mesmo tipo\n",
        "print(min(valores))\n",
        "print(max(valores))\n"
      ],
      "metadata": {
        "colab": {
          "base_uri": "https://localhost:8080/"
        },
        "id": "uIjoICsDvPU6",
        "outputId": "6432c50a-03cd-416c-bb13-07bd229506be"
      },
      "execution_count": 19,
      "outputs": [
        {
          "output_type": "stream",
          "name": "stdout",
          "text": [
            "10\n",
            "40\n"
          ]
        }
      ]
    },
    {
      "cell_type": "code",
      "source": [
        "sum(valores)"
      ],
      "metadata": {
        "colab": {
          "base_uri": "https://localhost:8080/"
        },
        "id": "__IFSKYIvmCf",
        "outputId": "14ab80d0-1c86-4033-a418-d872af2c6337"
      },
      "execution_count": 20,
      "outputs": [
        {
          "output_type": "execute_result",
          "data": {
            "text/plain": [
              "100"
            ]
          },
          "metadata": {},
          "execution_count": 20
        }
      ]
    },
    {
      "cell_type": "code",
      "source": [],
      "metadata": {
        "id": "Zy2jqZkRwjMP"
      },
      "execution_count": null,
      "outputs": []
    },
    {
      "cell_type": "markdown",
      "source": [
        "Funções nativas com listas"
      ],
      "metadata": {
        "id": "E7S67Hro717V"
      }
    },
    {
      "cell_type": "markdown",
      "source": [
        "Lista Built-in"
      ],
      "metadata": {
        "id": "qZp-VVOy77x6"
      }
    },
    {
      "cell_type": "code",
      "source": [
        "mercado = ['cebola','alho','macarrão']\n",
        "#apend acrescenta um elemento no final da lista\n",
        "mercado.append('molho')\n",
        "mercado"
      ],
      "metadata": {
        "colab": {
          "base_uri": "https://localhost:8080/"
        },
        "id": "_qTGC3Sf7_fE",
        "outputId": "cb0eca5c-e389-48d9-fa96-0cbaa526edea"
      },
      "execution_count": 1,
      "outputs": [
        {
          "output_type": "execute_result",
          "data": {
            "text/plain": [
              "['cebola', 'alho', 'macarrão', 'molho']"
            ]
          },
          "metadata": {},
          "execution_count": 1
        }
      ]
    },
    {
      "cell_type": "code",
      "source": [
        "#conta quantas vezes um elemento se repete na lista\n",
        "mercado.count('molho')"
      ],
      "metadata": {
        "colab": {
          "base_uri": "https://localhost:8080/"
        },
        "id": "7eCUDnE8coGU",
        "outputId": "bc3ae14b-cd74-4f59-d4a6-e93ffe7a804b"
      },
      "execution_count": 2,
      "outputs": [
        {
          "output_type": "execute_result",
          "data": {
            "text/plain": [
              "1"
            ]
          },
          "metadata": {},
          "execution_count": 2
        }
      ]
    },
    {
      "cell_type": "code",
      "source": [
        "#retorna o indice de um determinado elemento\n",
        "mercado.index('macarrão')"
      ],
      "metadata": {
        "colab": {
          "base_uri": "https://localhost:8080/"
        },
        "id": "9IEoc97Vctp0",
        "outputId": "b37cb097-2608-489a-d139-bda8558ab451"
      },
      "execution_count": 3,
      "outputs": [
        {
          "output_type": "execute_result",
          "data": {
            "text/plain": [
              "2"
            ]
          },
          "metadata": {},
          "execution_count": 3
        }
      ]
    },
    {
      "cell_type": "code",
      "source": [
        "#Inserir um elemento na lista\n",
        "mercado.insert(1,'refrigerante')\n",
        "mercado"
      ],
      "metadata": {
        "colab": {
          "base_uri": "https://localhost:8080/"
        },
        "id": "iNylsw3Cc4So",
        "outputId": "e5dc8bcb-7a3b-42a4-9e6a-0072f3fde457"
      },
      "execution_count": 4,
      "outputs": [
        {
          "output_type": "execute_result",
          "data": {
            "text/plain": [
              "['cebola', 'refrigerante', 'alho', 'macarrão', 'molho']"
            ]
          },
          "metadata": {},
          "execution_count": 4
        }
      ]
    },
    {
      "cell_type": "code",
      "source": [
        "#Organiza por ordem alfabética\n",
        "mercado.sort()\n",
        "mercado"
      ],
      "metadata": {
        "colab": {
          "base_uri": "https://localhost:8080/"
        },
        "id": "priZvvmodRlK",
        "outputId": "7e743bf3-50c5-4f9f-ae99-4004720fa41e"
      },
      "execution_count": 5,
      "outputs": [
        {
          "output_type": "execute_result",
          "data": {
            "text/plain": [
              "['alho', 'cebola', 'macarrão', 'molho', 'refrigerante']"
            ]
          },
          "metadata": {},
          "execution_count": 5
        }
      ]
    },
    {
      "cell_type": "code",
      "source": [
        "#Ordem alfabética inversa\n",
        "mercado.reverse()\n",
        "mercado"
      ],
      "metadata": {
        "colab": {
          "base_uri": "https://localhost:8080/"
        },
        "id": "EywT7tkDdetN",
        "outputId": "9a09b082-7015-4b2a-c2e3-591efb9cd9cd"
      },
      "execution_count": 6,
      "outputs": [
        {
          "output_type": "execute_result",
          "data": {
            "text/plain": [
              "['refrigerante', 'molho', 'macarrão', 'cebola', 'alho']"
            ]
          },
          "metadata": {},
          "execution_count": 6
        }
      ]
    },
    {
      "cell_type": "code",
      "source": [
        "#strings são imutáveis, não é possível mexer em um caracter\n",
        "s = 'Ala Python'\n",
        "s[0]='O'"
      ],
      "metadata": {
        "colab": {
          "base_uri": "https://localhost:8080/",
          "height": 176
        },
        "id": "GvJjtsGmdw22",
        "outputId": "b2dbf265-dca7-4a94-c7aa-d81c1dad7f3d"
      },
      "execution_count": 7,
      "outputs": [
        {
          "output_type": "error",
          "ename": "TypeError",
          "evalue": "'str' object does not support item assignment",
          "traceback": [
            "\u001b[0;31m---------------------------------------------------------------------------\u001b[0m",
            "\u001b[0;31mTypeError\u001b[0m                                 Traceback (most recent call last)",
            "\u001b[0;32m<ipython-input-7-76a8ef71f9b4>\u001b[0m in \u001b[0;36m<cell line: 3>\u001b[0;34m()\u001b[0m\n\u001b[1;32m      1\u001b[0m \u001b[0;31m#strings são imutáveis\u001b[0m\u001b[0;34m\u001b[0m\u001b[0;34m\u001b[0m\u001b[0m\n\u001b[1;32m      2\u001b[0m \u001b[0ms\u001b[0m \u001b[0;34m=\u001b[0m \u001b[0;34m'Ala Python'\u001b[0m\u001b[0;34m\u001b[0m\u001b[0;34m\u001b[0m\u001b[0m\n\u001b[0;32m----> 3\u001b[0;31m \u001b[0ms\u001b[0m\u001b[0;34m[\u001b[0m\u001b[0;36m0\u001b[0m\u001b[0;34m]\u001b[0m\u001b[0;34m=\u001b[0m\u001b[0;34m'O'\u001b[0m\u001b[0;34m\u001b[0m\u001b[0;34m\u001b[0m\u001b[0m\n\u001b[0m",
            "\u001b[0;31mTypeError\u001b[0m: 'str' object does not support item assignment"
          ]
        }
      ]
    },
    {
      "cell_type": "code",
      "source": [
        "#Listas são mutáveis, consigo mexer nos valores individuais\n",
        "lista = ['cachorro','gato']\n",
        "lista[0]='elefante'\n",
        "lista"
      ],
      "metadata": {
        "colab": {
          "base_uri": "https://localhost:8080/"
        },
        "id": "2fFLYGDReF2K",
        "outputId": "9d96ce91-9f03-49d2-e6fb-bec937bb3f0d"
      },
      "execution_count": 9,
      "outputs": [
        {
          "output_type": "execute_result",
          "data": {
            "text/plain": [
              "['elefante', 'gato']"
            ]
          },
          "metadata": {},
          "execution_count": 9
        }
      ]
    },
    {
      "cell_type": "code",
      "source": [],
      "metadata": {
        "id": "D7o1PZO9eVsu"
      },
      "execution_count": null,
      "outputs": []
    }
  ]
}