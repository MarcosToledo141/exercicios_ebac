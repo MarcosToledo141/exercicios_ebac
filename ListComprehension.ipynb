{
  "nbformat": 4,
  "nbformat_minor": 0,
  "metadata": {
    "colab": {
      "provenance": [],
      "authorship_tag": "ABX9TyOhRMd2pMaz3R+om5+GJKyl",
      "include_colab_link": true
    },
    "kernelspec": {
      "name": "python3",
      "display_name": "Python 3"
    },
    "language_info": {
      "name": "python"
    }
  },
  "cells": [
    {
      "cell_type": "markdown",
      "metadata": {
        "id": "view-in-github",
        "colab_type": "text"
      },
      "source": [
        "<a href=\"https://colab.research.google.com/github/MarcosToledo141/exercicios_ebac/blob/main/ListComprehension.ipynb\" target=\"_parent\"><img src=\"https://colab.research.google.com/assets/colab-badge.svg\" alt=\"Open In Colab\"/></a>"
      ]
    },
    {
      "cell_type": "code",
      "execution_count": null,
      "metadata": {
        "id": "81ZuOHqHAf44"
      },
      "outputs": [],
      "source": [
        "#List Comprehension parte 1\n",
        "#Uma sintaxe mais curta para criar uma lista baseado em uma lista já existente\n",
        "#Sintaxe: novalista = [expressão for item in interable if condition == True]"
      ]
    },
    {
      "cell_type": "code",
      "source": [
        "#Exemplos de como criar uma nova tabela, quando o animal conter a letra 't', criar uma nova lista\n",
        "#Exemplo 1 abaixo:\n",
        "\n",
        "animais = ['cachorro','gato','tartaruga','girafa']\n",
        "novaLista = []\n",
        "\n",
        " for animal in animais:\n",
        "   if 't' in animal:\n",
        "     novaLista.append(animal)\n",
        " print(novaLista)\n",
        "\n",
        "#Exemplo 2 abaixo:\n",
        "animais = ['cachorro','gato','tartaruga','girafa']\n",
        "novaLista = [animal for animal in animais if 't' in animal]\n",
        "print(novaLista)"
      ],
      "metadata": {
        "colab": {
          "base_uri": "https://localhost:8080/"
        },
        "id": "QzgoURAZBQhv",
        "outputId": "02dcf205-d049-47ef-c3a1-917e4b89ebf9"
      },
      "execution_count": 2,
      "outputs": [
        {
          "output_type": "stream",
          "name": "stdout",
          "text": [
            "['gato', 'tartaruga']\n"
          ]
        }
      ]
    },
    {
      "cell_type": "code",
      "source": [
        "#List Comprehension parte 2\n",
        "#Esta lista significa o seguinte: para cada número, se este núemro for divisível por 2, for igual a zero, ou seja, par, então criar a lista\n",
        "novaLista = [numero for numero in range(10) if numero%2 == 0]\n",
        "print(novaLista)"
      ],
      "metadata": {
        "colab": {
          "base_uri": "https://localhost:8080/"
        },
        "id": "KtjguqSLB7-z",
        "outputId": "90997bea-fa42-4ade-c5a6-2a796c91f1df"
      },
      "execution_count": 5,
      "outputs": [
        {
          "output_type": "stream",
          "name": "stdout",
          "text": [
            "[0, 2, 4, 6, 8]\n"
          ]
        }
      ]
    },
    {
      "cell_type": "code",
      "source": [
        "#Passar a lista de animais para a letra maiúscula:\n",
        "animais = ['cachorro','gato','tartaruga','girafa']\n",
        "novaLista = [animal.upper() for animal in animais]\n",
        "print(novaLista)\n"
      ],
      "metadata": {
        "colab": {
          "base_uri": "https://localhost:8080/"
        },
        "id": "92bPMjn7EsSj",
        "outputId": "c5b806cc-f4a0-4f7d-c747-2a083203a3bb"
      },
      "execution_count": 6,
      "outputs": [
        {
          "output_type": "stream",
          "name": "stdout",
          "text": [
            "['CACHORRO', 'GATO', 'TARTARUGA', 'GIRAFA']\n"
          ]
        }
      ]
    },
    {
      "cell_type": "code",
      "source": [
        "#Explicando este código, se o animal for diferente de cachorro, vai printar o próprio animal, se for igual a cachorro vai printar macaco\n",
        "animais = ['cachorro','gato','tartaruga','girafa']\n",
        "novaLista = [animal if animal != 'cachorro' else 'macaco' for animal in animais]\n",
        "print(novaLista)"
      ],
      "metadata": {
        "colab": {
          "base_uri": "https://localhost:8080/"
        },
        "id": "lBMtgJImGXG7",
        "outputId": "ef16b575-0cc0-4d5f-b235-8ba5dfe24907"
      },
      "execution_count": 7,
      "outputs": [
        {
          "output_type": "stream",
          "name": "stdout",
          "text": [
            "['macaco', 'gato', 'tartaruga', 'girafa']\n"
          ]
        }
      ]
    },
    {
      "cell_type": "code",
      "source": [],
      "metadata": {
        "id": "_63i4bKyHPGY"
      },
      "execution_count": null,
      "outputs": []
    }
  ]
}