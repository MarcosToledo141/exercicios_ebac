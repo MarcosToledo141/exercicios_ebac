{
  "nbformat": 4,
  "nbformat_minor": 0,
  "metadata": {
    "colab": {
      "provenance": [],
      "authorship_tag": "ABX9TyMNKhvt1tslUmzCkZdLxlkw",
      "include_colab_link": true
    },
    "kernelspec": {
      "name": "python3",
      "display_name": "Python 3"
    },
    "language_info": {
      "name": "python"
    }
  },
  "cells": [
    {
      "cell_type": "markdown",
      "metadata": {
        "id": "view-in-github",
        "colab_type": "text"
      },
      "source": [
        "<a href=\"https://colab.research.google.com/github/MarcosToledo141/exercicios_ebac/blob/main/poo_py.ipynb\" target=\"_parent\"><img src=\"https://colab.research.google.com/assets/colab-badge.svg\" alt=\"Open In Colab\"/></a>"
      ]
    },
    {
      "cell_type": "markdown",
      "source": [
        "Programação orientada a objetos POO\n",
        "Python permite programar tanto em POO como em estrutura\n",
        "\n",
        "Objetos são métodos e atributos\n",
        "\n",
        "Classe é um projeto de um objeto"
      ],
      "metadata": {
        "id": "tKnLC8N7eziZ"
      }
    },
    {
      "cell_type": "code",
      "source": [
        "#No exemplo abaixo retorna o endereço alocado de cada pessoa \"<__main__.Pessoa object at 0x79a97ae2ae90> <__main__.Pessoa object at 0x79a97ae2bac0>\"\n",
        "#Foram criados dois objetos do tipo pessoa e cada objeto pode ter o seu atributo\n",
        "#O que seria um atributo, um nome por exemplo\n",
        "class Pessoa:\n",
        "  pass\n",
        "\n",
        "pessoa1 = Pessoa()\n",
        "pessoa2 = Pessoa()\n",
        "print(pessoa1, pessoa2)"
      ],
      "metadata": {
        "colab": {
          "base_uri": "https://localhost:8080/"
        },
        "id": "GPH9ET5yfK0n",
        "outputId": "c48d656e-2e26-443a-85bc-a37ee1dc0f58"
      },
      "execution_count": 4,
      "outputs": [
        {
          "output_type": "stream",
          "name": "stdout",
          "text": [
            "<__main__.Pessoa object at 0x79a97ae2ae90> <__main__.Pessoa object at 0x79a97ae2bac0>\n"
          ]
        }
      ]
    },
    {
      "cell_type": "code",
      "source": [
        "#Neste código vamos inserir atributos aos objetos pessoas, por exemplo, nome e .\n",
        "class Pessoa:\n",
        "  pass\n",
        "\n",
        "pessoa1 = Pessoa()\n",
        "pessoa2 = Pessoa()\n",
        "\n",
        "pessoa1.nome = 'Maria'\n",
        "pessoa2.nome = 'João'\n",
        "\n",
        "pessoa1.idade = 30\n",
        "pessoa2.idade = 35\n",
        "print(pessoa1.nome, pessoa1.idade, pessoa2.nome, pessoa2.idade)"
      ],
      "metadata": {
        "colab": {
          "base_uri": "https://localhost:8080/"
        },
        "id": "O4Jrm1jHfeoE",
        "outputId": "6847cdc2-0eaf-4fb2-8756-1cc243b0843d"
      },
      "execution_count": 8,
      "outputs": [
        {
          "output_type": "stream",
          "name": "stdout",
          "text": [
            "Maria 30 João 35\n"
          ]
        }
      ]
    },
    {
      "cell_type": "markdown",
      "source": [
        "Lembrete, por convenção damos o nome da classe sempre com a primeira letra em maiúsculo"
      ],
      "metadata": {
        "id": "DdrBVkIahr6J"
      }
    },
    {
      "cell_type": "code",
      "source": [
        "#Método construtor, o self no código abaixo está realcionado às pessoas 1, 2, 3 e 4\n",
        "class Pessoa:\n",
        "  def __init__(self,nome, idade, altura):\n",
        "    self.nome = nome\n",
        "    self.idade = idade\n",
        "    self.altura = altura\n",
        "\n",
        "pessoa1 = Pessoa('Luiz', 35, 1.78)\n",
        "pessoa2 = Pessoa('Maria', 21, 1.67)\n",
        "pessoa3 = Pessoa('Marcos', 48, 1.68)\n",
        "pessoa4 = Pessoa('Cynthia', 44, 1.58)\n",
        "\n",
        "print(pessoa1.altura)\n",
        "print(pessoa2.altura)\n",
        "print(pessoa3.idade)\n",
        "print(pessoa4.nome)"
      ],
      "metadata": {
        "colab": {
          "base_uri": "https://localhost:8080/"
        },
        "id": "0l5nPqWnlyQX",
        "outputId": "70bc9405-8b44-4522-8246-456cc34e2780"
      },
      "execution_count": 13,
      "outputs": [
        {
          "output_type": "stream",
          "name": "stdout",
          "text": [
            "1.78\n",
            "1.67\n",
            "48\n",
            "Cynthia\n"
          ]
        }
      ]
    },
    {
      "cell_type": "code",
      "source": [],
      "metadata": {
        "id": "CbOXm42ZnHPN"
      },
      "execution_count": null,
      "outputs": []
    }
  ]
}