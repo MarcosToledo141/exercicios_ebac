{
  "nbformat": 4,
  "nbformat_minor": 0,
  "metadata": {
    "colab": {
      "provenance": [],
      "authorship_tag": "ABX9TyP35Dm3DBgC2ES8tNeIiQIU",
      "include_colab_link": true
    },
    "kernelspec": {
      "name": "python3",
      "display_name": "Python 3"
    },
    "language_info": {
      "name": "python"
    }
  },
  "cells": [
    {
      "cell_type": "markdown",
      "metadata": {
        "id": "view-in-github",
        "colab_type": "text"
      },
      "source": [
        "<a href=\"https://colab.research.google.com/github/MarcosToledo141/exercicios_ebac/blob/main/heranca_py.ipynb\" target=\"_parent\"><img src=\"https://colab.research.google.com/assets/colab-badge.svg\" alt=\"Open In Colab\"/></a>"
      ]
    },
    {
      "cell_type": "code",
      "execution_count": 1,
      "metadata": {
        "colab": {
          "base_uri": "https://localhost:8080/"
        },
        "id": "UunFhexXt30k",
        "outputId": "297f778b-e799-4def-9a0b-a38481a2db27"
      },
      "outputs": [
        {
          "output_type": "stream",
          "name": "stdout",
          "text": [
            "1212 do empregado João\n"
          ]
        }
      ],
      "source": [
        "#HERANÇA = um novo objeto (objeto filho) irá herdar as características do objeto pai\n",
        "\n",
        "class Empregado:\n",
        "  def __init__(self, identificacao, nome):\n",
        "    self.identificacao = identificacao\n",
        "    self.nome = nome\n",
        "#Método especial que retorna as características da  classe\n",
        "  def registrarponto():\n",
        "    print('Registrando o ponto')\n",
        "\n",
        "  def __str__(self):\n",
        "    return (f'{self.identificacao} do empregado {self.nome}')\n",
        "\n",
        "empregado = Empregado('1212', 'João')\n",
        "print(empregado)"
      ]
    },
    {
      "cell_type": "code",
      "source": [],
      "metadata": {
        "id": "8bCZJElcu8uv"
      },
      "execution_count": null,
      "outputs": []
    }
  ]
}