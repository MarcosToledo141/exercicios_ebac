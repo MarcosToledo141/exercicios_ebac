{
  "nbformat": 4,
  "nbformat_minor": 0,
  "metadata": {
    "colab": {
      "provenance": [],
      "authorship_tag": "ABX9TyMWznexYLVmqEXgxtrpIwI0",
      "include_colab_link": true
    },
    "kernelspec": {
      "name": "python3",
      "display_name": "Python 3"
    },
    "language_info": {
      "name": "python"
    }
  },
  "cells": [
    {
      "cell_type": "markdown",
      "metadata": {
        "id": "view-in-github",
        "colab_type": "text"
      },
      "source": [
        "<a href=\"https://colab.research.google.com/github/MarcosToledo141/exercicios_ebac/blob/main/file2_py.ipynb\" target=\"_parent\"><img src=\"https://colab.research.google.com/assets/colab-badge.svg\" alt=\"Open In Colab\"/></a>"
      ]
    },
    {
      "cell_type": "code",
      "execution_count": 1,
      "metadata": {
        "colab": {
          "base_uri": "https://localhost:8080/"
        },
        "id": "b8zLnmjtMBiI",
        "outputId": "7a1b72fd-b1cc-447d-e42f-7f2c940a365f"
      },
      "outputs": [
        {
          "output_type": "stream",
          "name": "stdout",
          "text": [
            "200.0\n"
          ]
        }
      ],
      "source": [
        "#Lembrar que o arquivo exemplo.txt, que contém a letra de uma música, da aula passada, precisa estar no memso local de execução do python\n",
        "#contando as palavras\n",
        "letra = open('exemplo.txt','r')\n",
        "\n",
        "palavras = letra.read()\n",
        "lista_palavras = palavras.split()\n",
        "print(lista_palavras)"
      ]
    },
    {
      "cell_type": "code",
      "source": [
        "#Quantidade de palavras na letra da música\n",
        "letra = open('exemplo.txt','r')\n",
        "\n",
        "palavras = letra.read()\n",
        "lista_palavras = palavras.split()\n",
        "print(len(lista_palavras))"
      ],
      "metadata": {
        "id": "78kK0LhkeXFy"
      },
      "execution_count": null,
      "outputs": []
    },
    {
      "cell_type": "code",
      "source": [
        "#Método count para contar a quantidade de certa palavra que aparece na letra\n",
        "letra = open('exemplo.txt','r')\n",
        "\n",
        "palavras = letra.read()\n",
        "lista_palavras = palavras.split()\n",
        "print(lista_palavras.count('amor'))"
      ],
      "metadata": {
        "id": "793ucVmYtKZZ"
      },
      "execution_count": null,
      "outputs": []
    },
    {
      "cell_type": "code",
      "source": [
        "#Listando a quantidade de palavras e quantidade de palavras não repetidas\n",
        "letra = open('exemplo.txt','r')\n",
        "\n",
        "palavras = letra.read()\n",
        "lista_palavras = palavras.split()\n",
        "print(f'Quantidade de palavras total: {len(lista_palavras)}')\n",
        "set_palavras = set(lista_palavras)\n",
        "print(f'Quantidade de palavras não repetidas: {len(set_palavras)}')"
      ],
      "metadata": {
        "id": "a1z_au9quXWt"
      },
      "execution_count": null,
      "outputs": []
    }
  ]
}