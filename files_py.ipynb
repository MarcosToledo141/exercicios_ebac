{
  "nbformat": 4,
  "nbformat_minor": 0,
  "metadata": {
    "colab": {
      "provenance": [],
      "authorship_tag": "ABX9TyODnwhL5dzkJtNQXEKepY/H",
      "include_colab_link": true
    },
    "kernelspec": {
      "name": "python3",
      "display_name": "Python 3"
    },
    "language_info": {
      "name": "python"
    }
  },
  "cells": [
    {
      "cell_type": "markdown",
      "metadata": {
        "id": "view-in-github",
        "colab_type": "text"
      },
      "source": [
        "<a href=\"https://colab.research.google.com/github/MarcosToledo141/exercicios_ebac/blob/main/files_py.ipynb\" target=\"_parent\"><img src=\"https://colab.research.google.com/assets/colab-badge.svg\" alt=\"Open In Colab\"/></a>"
      ]
    },
    {
      "cell_type": "code",
      "execution_count": 6,
      "metadata": {
        "colab": {
          "base_uri": "https://localhost:8080/",
          "height": 211
        },
        "id": "PeESUWROfSWa",
        "outputId": "01b0c74f-86df-4ae7-ffcf-2d62ac565e02"
      },
      "outputs": [
        {
          "output_type": "error",
          "ename": "FileNotFoundError",
          "evalue": "[Errno 2] No such file or directory: 'exemplo.txt'",
          "traceback": [
            "\u001b[0;31m---------------------------------------------------------------------------\u001b[0m",
            "\u001b[0;31mFileNotFoundError\u001b[0m                         Traceback (most recent call last)",
            "\u001b[0;32m<ipython-input-6-63b08f6882a1>\u001b[0m in \u001b[0;36m<cell line: 4>\u001b[0;34m()\u001b[0m\n\u001b[1;32m      2\u001b[0m \u001b[0;31m#No exemplo abaixo estamos lendo as 5 primeiras letras do arquivo exemplo.txt\u001b[0m\u001b[0;34m\u001b[0m\u001b[0;34m\u001b[0m\u001b[0m\n\u001b[1;32m      3\u001b[0m \u001b[0;31m#O arquivo exemplo.txt precisa estar no mesmo local do files.py\u001b[0m\u001b[0;34m\u001b[0m\u001b[0;34m\u001b[0m\u001b[0m\n\u001b[0;32m----> 4\u001b[0;31m \u001b[0mletra\u001b[0m \u001b[0;34m=\u001b[0m \u001b[0mopen\u001b[0m\u001b[0;34m(\u001b[0m\u001b[0;34m'exemplo.txt'\u001b[0m\u001b[0;34m,\u001b[0m\u001b[0;34m'r'\u001b[0m\u001b[0;34m)\u001b[0m\u001b[0;34m\u001b[0m\u001b[0;34m\u001b[0m\u001b[0m\n\u001b[0m\u001b[1;32m      5\u001b[0m \u001b[0;34m\u001b[0m\u001b[0m\n\u001b[1;32m      6\u001b[0m \u001b[0mprint\u001b[0m\u001b[0;34m(\u001b[0m\u001b[0mletra\u001b[0m\u001b[0;34m.\u001b[0m\u001b[0mread\u001b[0m\u001b[0;34m(\u001b[0m\u001b[0;36m12\u001b[0m\u001b[0;34m)\u001b[0m\u001b[0;34m)\u001b[0m\u001b[0;34m\u001b[0m\u001b[0;34m\u001b[0m\u001b[0m\n",
            "\u001b[0;31mFileNotFoundError\u001b[0m: [Errno 2] No such file or directory: 'exemplo.txt'"
          ]
        }
      ],
      "source": [
        "#ready(n), read(), readline(), readlines()\n",
        "#No exemplo abaixo estamos lendo as 5 primeiras letras do arquivo exemplo.txt\n",
        "#O arquivo exemplo.txt precisa estar no mesmo local do files.py\n",
        "letra = open('exemplo.txt','r')\n",
        "\n",
        "print(letra.read(5))\n",
        "#O erro abaixo foi porque o arquivo exemplo.txt não estava no mesmo local de execução do código\n",
        "#simulei no VS Code e deu certo"
      ]
    },
    {
      "cell_type": "code",
      "source": [
        "#No exemplo abaixo, sem especificar a quantidade de letras, como no exemplo acima '5', retorna todo o conteúdo do arquivo exemplo.txt\n",
        "letra = open('exemplo.txt','r')\n",
        "\n",
        "print(letra.read())"
      ],
      "metadata": {
        "id": "ty7UeeWtlcA8"
      },
      "execution_count": null,
      "outputs": []
    },
    {
      "cell_type": "code",
      "source": [
        "#Neste exemplo retorna apenas a primeira linha\n",
        "letra = open('exemplo.txt','r')\n",
        "\n",
        "print(letra.readline())"
      ],
      "metadata": {
        "id": "Y423cBRYpAGe"
      },
      "execution_count": null,
      "outputs": []
    },
    {
      "cell_type": "code",
      "source": [
        "#Neste exemplo retorna uma lista contendo cada uma das linhas\n",
        "letra = open('exemplo.txt','r')\n",
        "\n",
        "print(letra.readlines())"
      ],
      "metadata": {
        "id": "eJa6leaxpb-u"
      },
      "execution_count": null,
      "outputs": []
    },
    {
      "cell_type": "code",
      "source": [
        "#Neste exemplo retorna a quantidade de linhas ou de parágrafos\n",
        "letra = open('exemplo.txt','r')\n",
        "\n",
        "print(len(letra.readlines()))"
      ],
      "metadata": {
        "id": "IcHNqsMBqKcr"
      },
      "execution_count": null,
      "outputs": []
    }
  ]
}